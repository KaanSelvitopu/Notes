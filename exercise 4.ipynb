{
 "cells": [
  {
   "cell_type": "code",
   "execution_count": 1,
   "id": "57b84e99",
   "metadata": {},
   "outputs": [],
   "source": [
    "class Kitap():\n",
    "    pass"
   ]
  },
  {
   "cell_type": "code",
   "execution_count": 2,
   "id": "cd3ae083",
   "metadata": {},
   "outputs": [],
   "source": [
    "kitap = Kitap()"
   ]
  },
  {
   "cell_type": "code",
   "execution_count": 3,
   "id": "ffc83b39",
   "metadata": {},
   "outputs": [
    {
     "name": "stdout",
     "output_type": "stream",
     "text": [
      "<__main__.Kitap object at 0x0000020D252A68F0>\n"
     ]
    }
   ],
   "source": [
    "print(kitap)"
   ]
  },
  {
   "cell_type": "code",
   "execution_count": 4,
   "id": "4da835c5",
   "metadata": {},
   "outputs": [
    {
     "ename": "TypeError",
     "evalue": "object of type 'Kitap' has no len()",
     "output_type": "error",
     "traceback": [
      "\u001b[1;31m---------------------------------------------------------------------------\u001b[0m",
      "\u001b[1;31mTypeError\u001b[0m                                 Traceback (most recent call last)",
      "Cell \u001b[1;32mIn[4], line 1\u001b[0m\n\u001b[1;32m----> 1\u001b[0m \u001b[38;5;28;43mlen\u001b[39;49m\u001b[43m(\u001b[49m\u001b[43mkitap\u001b[49m\u001b[43m)\u001b[49m\n",
      "\u001b[1;31mTypeError\u001b[0m: object of type 'Kitap' has no len()"
     ]
    }
   ],
   "source": [
    "len(kitap)"
   ]
  },
  {
   "cell_type": "code",
   "execution_count": 6,
   "id": "bc79f72c",
   "metadata": {},
   "outputs": [
    {
     "ename": "NameError",
     "evalue": "name 'kitap' is not defined",
     "output_type": "error",
     "traceback": [
      "\u001b[1;31m---------------------------------------------------------------------------\u001b[0m",
      "\u001b[1;31mNameError\u001b[0m                                 Traceback (most recent call last)",
      "Cell \u001b[1;32mIn[6], line 1\u001b[0m\n\u001b[1;32m----> 1\u001b[0m \u001b[38;5;28;01mdel\u001b[39;00m kitap\n",
      "\u001b[1;31mNameError\u001b[0m: name 'kitap' is not defined"
     ]
    }
   ],
   "source": [
    "del kitap"
   ]
  },
  {
   "cell_type": "code",
   "execution_count": 7,
   "id": "bb2430c9",
   "metadata": {},
   "outputs": [
    {
     "ename": "NameError",
     "evalue": "name 'kitap' is not defined",
     "output_type": "error",
     "traceback": [
      "\u001b[1;31m---------------------------------------------------------------------------\u001b[0m",
      "\u001b[1;31mNameError\u001b[0m                                 Traceback (most recent call last)",
      "Cell \u001b[1;32mIn[7], line 1\u001b[0m\n\u001b[1;32m----> 1\u001b[0m \u001b[43mkitap\u001b[49m\n",
      "\u001b[1;31mNameError\u001b[0m: name 'kitap' is not defined"
     ]
    }
   ],
   "source": [
    "kitap"
   ]
  },
  {
   "cell_type": "code",
   "execution_count": 18,
   "id": "d0a5e62b",
   "metadata": {},
   "outputs": [],
   "source": [
    "class Kitap():\n",
    "    def __init__(self,isim,yazar,sayfa_sayısı,tür):\n",
    "        print(\"init fonksiyonu\")\n",
    "        self.isim = isim\n",
    "        self.yazar = yazar\n",
    "        self.sayfa_sayısı = sayfa_sayısı\n",
    "        self.tür = tür\n",
    "    def bilgilerigöster(self):\n",
    "        print(\"Kitap\")\n",
    "        print(\"isim:{}\\nyazar:{}\\nsayfa_sayısı:{}\\ntür:{}\".format(self.isim,self.yazar,self.sayfa_sayısı,self.tür))\n",
    "        "
   ]
  },
  {
   "cell_type": "code",
   "execution_count": 19,
   "id": "04afc340",
   "metadata": {},
   "outputs": [
    {
     "name": "stdout",
     "output_type": "stream",
     "text": [
      "init fonksiyonu\n"
     ]
    }
   ],
   "source": [
    "kitap = Kitap(\"Araba Sevdası\",\"Recaizade Mahmud Ekrem\",224,\"Realist Roman\")"
   ]
  },
  {
   "cell_type": "code",
   "execution_count": 20,
   "id": "69995bb7",
   "metadata": {},
   "outputs": [
    {
     "name": "stdout",
     "output_type": "stream",
     "text": [
      "Kitap\n",
      "isim:Araba Sevdası\n",
      "yazar:Recaizade Mahmud Ekrem\n",
      "sayfa_sayısı:224\n",
      "tür:Realist Roman\n"
     ]
    }
   ],
   "source": [
    "kitap.bilgilerigöster()"
   ]
  },
  {
   "cell_type": "code",
   "execution_count": 21,
   "id": "73a0701b",
   "metadata": {},
   "outputs": [],
   "source": [
    "class Kitap():\n",
    "    def __init__(self,isim,yazar,sayfa_sayısı,tür):\n",
    "        print(\"init fonksiyonu\")\n",
    "        self.isim = isim\n",
    "        self.yazar = yazar\n",
    "        self.sayfa_sayısı = sayfa_sayısı\n",
    "        self.tür = tür\n",
    "    def __str__(self):\n",
    "        return \"isim:{}\\nyazar:{}\\nsayfa_sayısı:{}\\ntür:{}\".format(self.isim,self.yazar,self.sayfa_sayısı,self.tür)\n",
    "        "
   ]
  },
  {
   "cell_type": "code",
   "execution_count": 22,
   "id": "857229c9",
   "metadata": {},
   "outputs": [
    {
     "name": "stdout",
     "output_type": "stream",
     "text": [
      "init fonksiyonu\n"
     ]
    }
   ],
   "source": [
    "kitap = Kitap(\"Araba Sevdası\",\"Recaizade Mahmud Ekrem\",224,\"Realist Roman\")"
   ]
  },
  {
   "cell_type": "code",
   "execution_count": 23,
   "id": "05d96940",
   "metadata": {},
   "outputs": [
    {
     "name": "stdout",
     "output_type": "stream",
     "text": [
      "isim:Araba Sevdası\n",
      "yazar:Recaizade Mahmud Ekrem\n",
      "sayfa_sayısı:224\n",
      "tür:Realist Roman\n"
     ]
    }
   ],
   "source": [
    "print(kitap)"
   ]
  },
  {
   "cell_type": "code",
   "execution_count": 33,
   "id": "0eb2ea59",
   "metadata": {},
   "outputs": [],
   "source": [
    "class Kitap():\n",
    "    def __init__(self,isim,yazar,sayfa_sayısı,tür):\n",
    "        print(\"init fonksiyonu\")\n",
    "        self.isim = isim\n",
    "        self.yazar = yazar\n",
    "        self.sayfa_sayısı = sayfa_sayısı\n",
    "        self.tür = tür\n",
    "    def __str__(self):\n",
    "        return \"isim:{}\\nyazar:{}\\nsayfa_sayısı:{}\\ntür:{}\".format(self.isim,self.yazar,self.sayfa_sayısı,self.tür)\n",
    "    def __len__(self):\n",
    "        return self.sayfa_sayısı\n",
    "        "
   ]
  },
  {
   "cell_type": "code",
   "execution_count": 34,
   "id": "291c18fc",
   "metadata": {},
   "outputs": [
    {
     "name": "stdout",
     "output_type": "stream",
     "text": [
      "init fonksiyonu\n"
     ]
    }
   ],
   "source": [
    "kitap = Kitap(\"Araba Sevdası\",\"Recaizade Mahmud Ekrem\",224,\"Realist Roman\")"
   ]
  },
  {
   "cell_type": "code",
   "execution_count": 35,
   "id": "88611c1a",
   "metadata": {},
   "outputs": [
    {
     "data": {
      "text/plain": [
       "224"
      ]
     },
     "execution_count": 35,
     "metadata": {},
     "output_type": "execute_result"
    }
   ],
   "source": [
    "len(kitap)"
   ]
  },
  {
   "cell_type": "code",
   "execution_count": 36,
   "id": "faf836a3",
   "metadata": {},
   "outputs": [],
   "source": [
    "class Kitap():\n",
    "    def __init__(self,isim,yazar,sayfa_sayısı,tür):\n",
    "        print(\"init fonksiyonu\")\n",
    "        self.isim = isim\n",
    "        self.yazar = yazar\n",
    "        self.sayfa_sayısı = sayfa_sayısı\n",
    "        self.tür = tür\n",
    "    def __str__(self):\n",
    "        return \"isim:{}\\nyazar:{}\\nsayfa_sayısı:{}\\ntür:{}\".format(self.isim,self.yazar,self.sayfa_sayısı,self.tür)\n",
    "    def __len__(self):\n",
    "        return self.sayfa_sayısı\n",
    "    def __del__(self):\n",
    "        print(\"Kitap Objesi Siliniyor...\")"
   ]
  },
  {
   "cell_type": "code",
   "execution_count": 37,
   "id": "83dfd00e",
   "metadata": {},
   "outputs": [
    {
     "name": "stdout",
     "output_type": "stream",
     "text": [
      "init fonksiyonu\n"
     ]
    }
   ],
   "source": [
    "kitap = Kitap(\"Araba Sevdası\",\"Recaizade Mahmud Ekrem\",224,\"Realist Roman\")"
   ]
  },
  {
   "cell_type": "code",
   "execution_count": 38,
   "id": "a1c6f02e",
   "metadata": {},
   "outputs": [
    {
     "name": "stdout",
     "output_type": "stream",
     "text": [
      "Kitap Objesi Siliniyor...\n"
     ]
    }
   ],
   "source": [
    "del kitap"
   ]
  },
  {
   "cell_type": "code",
   "execution_count": 39,
   "id": "2b1e7830",
   "metadata": {},
   "outputs": [
    {
     "ename": "NameError",
     "evalue": "name 'kitap' is not defined",
     "output_type": "error",
     "traceback": [
      "\u001b[1;31m---------------------------------------------------------------------------\u001b[0m",
      "\u001b[1;31mNameError\u001b[0m                                 Traceback (most recent call last)",
      "Cell \u001b[1;32mIn[39], line 1\u001b[0m\n\u001b[1;32m----> 1\u001b[0m \u001b[43mkitap\u001b[49m\n",
      "\u001b[1;31mNameError\u001b[0m: name 'kitap' is not defined"
     ]
    }
   ],
   "source": [
    "kitap"
   ]
  },
  {
   "cell_type": "code",
   "execution_count": 1,
   "id": "8b84f084",
   "metadata": {},
   "outputs": [],
   "source": [
    "import time\n",
    "\n",
    "class pc():\n",
    "    def __init__(self,pc_status = \"Off\",pc_system = \"Windows\",pc_audio = 0):\n",
    "        self.pc_status = pc_status\n",
    "        self.pc_system = pc_system\n",
    "        self.pc_audio = pc_audio\n",
    "    def pc_on(self):\n",
    "        if(self.pc_status == \"On\"):\n",
    "            print(\"Pc already on \")\n",
    "        else:\n",
    "            print(\"Welcome.......\")\n",
    "            self.pc_status = \"On\"\n",
    "    def pc_off(self):\n",
    "        if(self.pc_status == \"Off\"):\n",
    "            print(\"Pc Already Off\")\n",
    "        else:\n",
    "            print(\"See You\")\n",
    "            self.pc_status = \"Off\"\n",
    "    def change_system(self,system_name):\n",
    "        print(\"Changing System....\")\n",
    "        time.sleep(1)\n",
    "        self.pc_system.append(system_name)\n",
    "        print(\"System Changed\")\n",
    "    def audio_settings(self):\n",
    "        while True:\n",
    "            reply = input(\"Turn down the volume:'<'\\nTurn up the volume:'>'\\nExit:q \")\n",
    "            if(reply ==\"<\"):\n",
    "                if(self.pc_audio != 0):\n",
    "                    self.pc_audio -= 1\n",
    "                    print(\"Volume\",self.pc_audio)\n",
    "            elif(reply == \">\"):\n",
    "                if(self.pc_audio != 100):\n",
    "                    self.pc_audio +=1\n",
    "                    print(\"Volume\",self.pc_audio)\n",
    "            else:\n",
    "                print(\"The sound has been updated\",self.pc_audio)\n",
    "                break\n",
    "    \n",
    "        "
   ]
  },
  {
   "cell_type": "code",
   "execution_count": null,
   "id": "9b409ae5",
   "metadata": {},
   "outputs": [],
   "source": []
  }
 ],
 "metadata": {
  "kernelspec": {
   "display_name": "Python 3 (ipykernel)",
   "language": "python",
   "name": "python3"
  },
  "language_info": {
   "codemirror_mode": {
    "name": "ipython",
    "version": 3
   },
   "file_extension": ".py",
   "mimetype": "text/x-python",
   "name": "python",
   "nbconvert_exporter": "python",
   "pygments_lexer": "ipython3",
   "version": "3.10.9"
  }
 },
 "nbformat": 4,
 "nbformat_minor": 5
}
