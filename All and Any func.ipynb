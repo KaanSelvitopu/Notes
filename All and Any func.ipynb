{
 "cells": [
  {
   "cell_type": "code",
   "execution_count": 1,
   "id": "ee5dfe9f",
   "metadata": {},
   "outputs": [],
   "source": [
    "def hepsi(liste):\n",
    "    for i in liste:\n",
    "        if not i:\n",
    "            return False\n",
    "    return True"
   ]
  },
  {
   "cell_type": "code",
   "execution_count": 2,
   "id": "9b207f8c",
   "metadata": {},
   "outputs": [],
   "source": [
    "liste = [True,False,True,False,True]"
   ]
  },
  {
   "cell_type": "code",
   "execution_count": 3,
   "id": "0cb4e6d7",
   "metadata": {},
   "outputs": [
    {
     "data": {
      "text/plain": [
       "False"
      ]
     },
     "execution_count": 3,
     "metadata": {},
     "output_type": "execute_result"
    }
   ],
   "source": [
    "hepsi(liste)"
   ]
  },
  {
   "cell_type": "code",
   "execution_count": 4,
   "id": "e0ba024f",
   "metadata": {},
   "outputs": [],
   "source": [
    "liste = [1,2,3,4,5]"
   ]
  },
  {
   "cell_type": "code",
   "execution_count": 5,
   "id": "e1546e8a",
   "metadata": {},
   "outputs": [
    {
     "data": {
      "text/plain": [
       "True"
      ]
     },
     "execution_count": 5,
     "metadata": {},
     "output_type": "execute_result"
    }
   ],
   "source": [
    "hepsi(liste)"
   ]
  },
  {
   "cell_type": "code",
   "execution_count": 6,
   "id": "d74274af",
   "metadata": {},
   "outputs": [],
   "source": [
    "def herhangi(liste):\n",
    "    for i in liste:\n",
    "        if i :\n",
    "            return True\n",
    "    return False"
   ]
  },
  {
   "cell_type": "code",
   "execution_count": 7,
   "id": "65242c3f",
   "metadata": {},
   "outputs": [
    {
     "data": {
      "text/plain": [
       "True"
      ]
     },
     "execution_count": 7,
     "metadata": {},
     "output_type": "execute_result"
    }
   ],
   "source": [
    "herhangi([True,False,True,False,True])"
   ]
  },
  {
   "cell_type": "code",
   "execution_count": 8,
   "id": "8ddccd39",
   "metadata": {},
   "outputs": [],
   "source": [
    "liste = [0,0,0,0,0]"
   ]
  },
  {
   "cell_type": "code",
   "execution_count": 9,
   "id": "04864885",
   "metadata": {},
   "outputs": [
    {
     "data": {
      "text/plain": [
       "False"
      ]
     },
     "execution_count": 9,
     "metadata": {},
     "output_type": "execute_result"
    }
   ],
   "source": [
    "herhangi(liste)"
   ]
  },
  {
   "cell_type": "code",
   "execution_count": 10,
   "id": "4e30416b",
   "metadata": {},
   "outputs": [],
   "source": [
    "liste = [True,False,True,False,True]"
   ]
  },
  {
   "cell_type": "code",
   "execution_count": 11,
   "id": "a1191a40",
   "metadata": {},
   "outputs": [
    {
     "data": {
      "text/plain": [
       "False"
      ]
     },
     "execution_count": 11,
     "metadata": {},
     "output_type": "execute_result"
    }
   ],
   "source": [
    "all(liste)"
   ]
  },
  {
   "cell_type": "code",
   "execution_count": 14,
   "id": "b73205ef",
   "metadata": {},
   "outputs": [
    {
     "data": {
      "text/plain": [
       "True"
      ]
     },
     "execution_count": 14,
     "metadata": {},
     "output_type": "execute_result"
    }
   ],
   "source": [
    "all([True,True,True]) ##### all fonksiyonu hepsi True ise True eğer bir tanesi False ise False Cevabını Verir"
   ]
  },
  {
   "cell_type": "code",
   "execution_count": 15,
   "id": "7bf5fb0f",
   "metadata": {},
   "outputs": [],
   "source": [
    "liste = [False,False]"
   ]
  },
  {
   "cell_type": "code",
   "execution_count": 16,
   "id": "ea712251",
   "metadata": {},
   "outputs": [
    {
     "data": {
      "text/plain": [
       "False"
      ]
     },
     "execution_count": 16,
     "metadata": {},
     "output_type": "execute_result"
    }
   ],
   "source": [
    "all(liste)"
   ]
  },
  {
   "cell_type": "code",
   "execution_count": 17,
   "id": "19184673",
   "metadata": {},
   "outputs": [
    {
     "data": {
      "text/plain": [
       "True"
      ]
     },
     "execution_count": 17,
     "metadata": {},
     "output_type": "execute_result"
    }
   ],
   "source": [
    "any([True,False,True,False,True])"
   ]
  },
  {
   "cell_type": "code",
   "execution_count": 19,
   "id": "0e2808c0",
   "metadata": {},
   "outputs": [
    {
     "data": {
      "text/plain": [
       "False"
      ]
     },
     "execution_count": 19,
     "metadata": {},
     "output_type": "execute_result"
    }
   ],
   "source": [
    "any([False,False]) ## Any fonksiyonu eğer bütün değerler False ise False eğer bir tanesi True ise True cevabını verir."
   ]
  },
  {
   "cell_type": "code",
   "execution_count": null,
   "id": "d264d29e",
   "metadata": {},
   "outputs": [],
   "source": []
  }
 ],
 "metadata": {
  "kernelspec": {
   "display_name": "Python 3 (ipykernel)",
   "language": "python",
   "name": "python3"
  },
  "language_info": {
   "codemirror_mode": {
    "name": "ipython",
    "version": 3
   },
   "file_extension": ".py",
   "mimetype": "text/x-python",
   "name": "python",
   "nbconvert_exporter": "python",
   "pygments_lexer": "ipython3",
   "version": "3.10.9"
  }
 },
 "nbformat": 4,
 "nbformat_minor": 5
}
