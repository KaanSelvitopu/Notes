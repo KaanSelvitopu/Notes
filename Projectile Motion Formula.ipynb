{
 "cells": [
  {
   "cell_type": "code",
   "execution_count": 3,
   "id": "f90d2951",
   "metadata": {},
   "outputs": [
    {
     "ename": "SyntaxError",
     "evalue": "invalid syntax (1004394180.py, line 42)",
     "output_type": "error",
     "traceback": [
      "\u001b[1;36m  Cell \u001b[1;32mIn[3], line 42\u001b[1;36m\u001b[0m\n\u001b[1;33m    (2 * sin(radians(self.launch_angle)) * cos(radians(self.launch_angle)))) /\u001b[0m\n\u001b[1;37m                                                                               ^\u001b[0m\n\u001b[1;31mSyntaxError\u001b[0m\u001b[1;31m:\u001b[0m invalid syntax\n"
     ]
    }
   ],
   "source": [
    "import math\n",
    "\n",
    "\n",
    "print(\"\"\"\n",
    "\n",
    "This program is used to calculate maximum height,range and maximum speed\n",
    " v = initial velocity\n",
    " cos = angle\n",
    " g = gravity\n",
    " vx = velocity at the peak\n",
    " tc = time to peak\n",
    " tu = flight time\n",
    " h = height\n",
    " x = range\n",
    "\n",
    "\n",
    "\"\"\")\n",
    "\n",
    "\n",
    "v = float(input(\"Please enter the initial velocity:\"))\n",
    "\n",
    "cos = math.radians(float(input(\"Please enter the angle in degrees: \")))\n",
    "\n",
    "g = 9.81\n",
    "\n",
    "vx = v * cos\n",
    "\n",
    "tc = abs(v * math.sin(cos) / g)\n",
    "\n",
    "tu = tc*2\n",
    "\n",
    "h = (1/2)*(g)*(tc**2)\n",
    "\n",
    "x = (vx*tu)\n",
    "\n",
    "result = f\"{tu:.2f} flight time, {h:.2f} maximum height, {x:.2f} range\"\n",
    "\n",
    "print(result)\n",
    "\n",
    "\n",
    "\n",
    "\n",
    "\n",
    "\n",
    "\n",
    "\n",
    "\n",
    "\n"
   ]
  },
  {
   "cell_type": "code",
   "execution_count": null,
   "id": "7f95c95a",
   "metadata": {},
   "outputs": [],
   "source": []
  }
 ],
 "metadata": {
  "kernelspec": {
   "display_name": "Python 3 (ipykernel)",
   "language": "python",
   "name": "python3"
  },
  "language_info": {
   "codemirror_mode": {
    "name": "ipython",
    "version": 3
   },
   "file_extension": ".py",
   "mimetype": "text/x-python",
   "name": "python",
   "nbconvert_exporter": "python",
   "pygments_lexer": "ipython3",
   "version": "3.10.9"
  }
 },
 "nbformat": 4,
 "nbformat_minor": 5
}
