{
 "cells": [
  {
   "cell_type": "code",
   "execution_count": 8,
   "id": "1a8d6160",
   "metadata": {},
   "outputs": [],
   "source": [
    "list1 = [1,2,3,4,5]\n",
    "list2 = [6,7,8,9,10,11]"
   ]
  },
  {
   "cell_type": "code",
   "execution_count": 9,
   "id": "a0cdcf67",
   "metadata": {},
   "outputs": [
    {
     "name": "stdout",
     "output_type": "stream",
     "text": [
      "[(1, 6), (2, 7), (3, 8), (4, 9), (5, 10)]\n"
     ]
    }
   ],
   "source": [
    "i = 0\n",
    "outcome = list()\n",
    "while(i<len(list1)and i<len(list2)):\n",
    "    outcome.append((list1[i],list2[i]))\n",
    "    i+=1\n",
    "print(outcome)"
   ]
  },
  {
   "cell_type": "code",
   "execution_count": 10,
   "id": "75535d4c",
   "metadata": {},
   "outputs": [
    {
     "data": {
      "text/plain": [
       "<zip at 0x20394387f80>"
      ]
     },
     "execution_count": 10,
     "metadata": {},
     "output_type": "execute_result"
    }
   ],
   "source": [
    "zip(list1,list2)"
   ]
  },
  {
   "cell_type": "code",
   "execution_count": 11,
   "id": "439cd679",
   "metadata": {},
   "outputs": [
    {
     "data": {
      "text/plain": [
       "[(1, 6), (2, 7), (3, 8), (4, 9), (5, 10)]"
      ]
     },
     "execution_count": 11,
     "metadata": {},
     "output_type": "execute_result"
    }
   ],
   "source": [
    "list(zip(list1,list2))"
   ]
  },
  {
   "cell_type": "code",
   "execution_count": 12,
   "id": "f49d7a51",
   "metadata": {},
   "outputs": [
    {
     "data": {
      "text/plain": [
       "[(1, 7, 'Python'), (2, 8, 'Php'), (3, 9, 'Java'), (4, 10, 'JavaScript')]"
      ]
     },
     "execution_count": 12,
     "metadata": {},
     "output_type": "execute_result"
    }
   ],
   "source": [
    "list1 = [1,2,3,4,5,6]\n",
    "list2 = [7,8,9,10,11,12]\n",
    "list3 = [\"Python\",\"Php\",\"Java\",\"JavaScript\"]\n",
    "list(zip(list1,list2,list3))"
   ]
  },
  {
   "cell_type": "code",
   "execution_count": 13,
   "id": "83202a33",
   "metadata": {},
   "outputs": [],
   "source": [
    "list1 = [1,2,3,4]\n",
    "list2 = [\"Python\",\"Php\",\"Java\",\"JavaScript\"]"
   ]
  },
  {
   "cell_type": "code",
   "execution_count": 14,
   "id": "b3ea997c",
   "metadata": {},
   "outputs": [
    {
     "name": "stdout",
     "output_type": "stream",
     "text": [
      "1 Python\n",
      "2 Php\n",
      "3 Java\n",
      "4 JavaScript\n"
     ]
    }
   ],
   "source": [
    "for i,j in zip(list1,list2):\n",
    "    print(i,j)"
   ]
  },
  {
   "cell_type": "code",
   "execution_count": 15,
   "id": "8288dc42",
   "metadata": {},
   "outputs": [],
   "source": [
    "dict1 = {\"Python\":1,\"Php\":2,\"Java\":3}\n",
    "dict2 = {\"One\":1,\"Two\":2,\"Three\":3}\n"
   ]
  },
  {
   "cell_type": "code",
   "execution_count": 16,
   "id": "7d44d556",
   "metadata": {},
   "outputs": [
    {
     "data": {
      "text/plain": [
       "<zip at 0x20394216200>"
      ]
     },
     "execution_count": 16,
     "metadata": {},
     "output_type": "execute_result"
    }
   ],
   "source": [
    "zip(dict1,dict2)"
   ]
  },
  {
   "cell_type": "code",
   "execution_count": 17,
   "id": "f0c4e73a",
   "metadata": {},
   "outputs": [
    {
     "data": {
      "text/plain": [
       "[('Python', 'One'), ('Php', 'Two'), ('Java', 'Three')]"
      ]
     },
     "execution_count": 17,
     "metadata": {},
     "output_type": "execute_result"
    }
   ],
   "source": [
    "list(zip(dict1,dict2))"
   ]
  },
  {
   "cell_type": "code",
   "execution_count": 19,
   "id": "48348d41",
   "metadata": {},
   "outputs": [
    {
     "data": {
      "text/plain": [
       "[(1, 1), (2, 2), (3, 3)]"
      ]
     },
     "execution_count": 19,
     "metadata": {},
     "output_type": "execute_result"
    }
   ],
   "source": [
    "list(zip(dict1.values(),dict2.values()))"
   ]
  },
  {
   "cell_type": "code",
   "execution_count": null,
   "id": "8558e824",
   "metadata": {},
   "outputs": [],
   "source": []
  }
 ],
 "metadata": {
  "kernelspec": {
   "display_name": "Python 3 (ipykernel)",
   "language": "python",
   "name": "python3"
  },
  "language_info": {
   "codemirror_mode": {
    "name": "ipython",
    "version": 3
   },
   "file_extension": ".py",
   "mimetype": "text/x-python",
   "name": "python",
   "nbconvert_exporter": "python",
   "pygments_lexer": "ipython3",
   "version": "3.10.9"
  }
 },
 "nbformat": 4,
 "nbformat_minor": 5
}
