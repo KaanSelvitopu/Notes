{
 "cells": [
  {
   "cell_type": "code",
   "execution_count": 9,
   "id": "984c3e6b",
   "metadata": {},
   "outputs": [
    {
     "name": "stdout",
     "output_type": "stream",
     "text": [
      "\n",
      "\n",
      "bu program not harflendirmesini hesaplar\n",
      "\n",
      "\n",
      "\n",
      "Lütfen öğrencinin notunu giriniz:30\n",
      "FD\n"
     ]
    }
   ],
   "source": [
    "print(\"\"\"\n",
    "\n",
    "bu program not harflendirmesini hesaplar\n",
    "\n",
    "\n",
    "\"\"\")\n",
    "\n",
    "mark = int(input(\"Lütfen öğrencinin notunu giriniz:\"))\n",
    "\n",
    "if mark >= 90 or mark == 100:\n",
    "    print(\"AA\")\n",
    "elif mark >= 80 or mark == 89:\n",
    "    print(\"BA\")\n",
    "elif mark >= 75 or mark == 79:\n",
    "    print(\"BB\")\n",
    "elif mark >= 70 or mark == 74:\n",
    "    print(\"CB\")\n",
    "elif mark >= 60 or mark == 69:\n",
    "    print(\"CC\")\n",
    "elif mark >= 50 or mark == 59:\n",
    "    print(\"CD\")\n",
    "elif mark >= 40 or mark == 49:\n",
    "    print(\"DD\")\n",
    "elif mark >= 30 or mark == 39:\n",
    "    print(\"FD\")\n",
    "else:\n",
    "    print(\"FF\")"
   ]
  },
  {
   "cell_type": "code",
   "execution_count": null,
   "id": "94808fa8",
   "metadata": {},
   "outputs": [],
   "source": []
  },
  {
   "cell_type": "code",
   "execution_count": null,
   "id": "623086ea",
   "metadata": {},
   "outputs": [],
   "source": []
  }
 ],
 "metadata": {
  "kernelspec": {
   "display_name": "Python 3 (ipykernel)",
   "language": "python",
   "name": "python3"
  },
  "language_info": {
   "codemirror_mode": {
    "name": "ipython",
    "version": 3
   },
   "file_extension": ".py",
   "mimetype": "text/x-python",
   "name": "python",
   "nbconvert_exporter": "python",
   "pygments_lexer": "ipython3",
   "version": "3.10.9"
  }
 },
 "nbformat": 4,
 "nbformat_minor": 5
}
