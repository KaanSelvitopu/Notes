{
 "cells": [
  {
   "cell_type": "code",
   "execution_count": 1,
   "id": "bf7559b3",
   "metadata": {},
   "outputs": [
    {
     "name": "stdout",
     "output_type": "stream",
     "text": [
      "\n",
      "\n",
      "  This program calculates the Luhm Algorithm to check the validity of a credit card number\n",
      "\n",
      "\n",
      "Please enter the card number:5433300000000133\n",
      "Valid Visa Card\n"
     ]
    }
   ],
   "source": [
    "print(\"\"\"\n",
    "\n",
    "  This program calculates the Luhm Algorithm to check the validity of a credit card number\n",
    "\n",
    "\"\"\")\n",
    "\n",
    "\n",
    "card_number = input(\"Please enter the card number:\")\n",
    "numbers = list(map(int,str(card_number)))\n",
    "odd = numbers [1::2]\n",
    "even = numbers [1::2]\n",
    "\n",
    "def calc(num1,num2):\n",
    "    doubled_numbers = [i * 2 for i in num1]\n",
    "    elements = [sum([int(char) for char in str(x)]) for x in doubled_numbers]\n",
    "    sum_final = sum(elements) + sum(num2)\n",
    "    return sum_final\n",
    "if len(numbers) == 16 :\n",
    "    print(\"Valid Visa Card\") if (calc(even,odd)) % 10 != 0 else print(\"Invalid Card\")\n",
    "    \n",
    "elif len(numbers) == 15:\n",
    "    print(\"Valid American Express Card\") if (calc(odd,even)) % 10 != 0 else print(\"Invalid Card\")\n",
    "    \n",
    "else :\n",
    "    print(\"Entered card number is not valid\")\n",
    "    exit()\n",
    "    "
   ]
  },
  {
   "cell_type": "code",
   "execution_count": null,
   "id": "dabbc575",
   "metadata": {},
   "outputs": [],
   "source": []
  }
 ],
 "metadata": {
  "kernelspec": {
   "display_name": "Python 3 (ipykernel)",
   "language": "python",
   "name": "python3"
  },
  "language_info": {
   "codemirror_mode": {
    "name": "ipython",
    "version": 3
   },
   "file_extension": ".py",
   "mimetype": "text/x-python",
   "name": "python",
   "nbconvert_exporter": "python",
   "pygments_lexer": "ipython3",
   "version": "3.10.9"
  }
 },
 "nbformat": 4,
 "nbformat_minor": 5
}
