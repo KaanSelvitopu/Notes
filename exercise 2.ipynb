{
 "cells": [
  {
   "cell_type": "code",
   "execution_count": 35,
   "id": "f1f68d30",
   "metadata": {},
   "outputs": [
    {
     "data": {
      "text/plain": [
       "5"
      ]
     },
     "execution_count": 35,
     "metadata": {},
     "output_type": "execute_result"
    }
   ],
   "source": [
    "liste1 = [1,5,3,7,9]\n",
    "len(liste1)"
   ]
  },
  {
   "cell_type": "code",
   "execution_count": 36,
   "id": "088d5785",
   "metadata": {},
   "outputs": [
    {
     "data": {
      "text/plain": [
       "4"
      ]
     },
     "execution_count": 36,
     "metadata": {},
     "output_type": "execute_result"
    }
   ],
   "source": [
    "liste2 = [2,4,6,8]\n",
    "len(liste2)"
   ]
  },
  {
   "cell_type": "code",
   "execution_count": 43,
   "id": "550f97c3",
   "metadata": {},
   "outputs": [
    {
     "name": "stdout",
     "output_type": "stream",
     "text": [
      "[1, 5, 3, 7, 9, 2, 4, 6, 8]\n"
     ]
    }
   ],
   "source": [
    "print(liste1 + liste2)"
   ]
  },
  {
   "cell_type": "code",
   "execution_count": 46,
   "id": "56341974",
   "metadata": {},
   "outputs": [
    {
     "data": {
      "text/plain": [
       "[1, 5, 3, 7, 9, 2, 4, 6, 8]"
      ]
     },
     "execution_count": 46,
     "metadata": {},
     "output_type": "execute_result"
    }
   ],
   "source": [
    "liste3 = liste1 + liste2\n",
    "liste3"
   ]
  },
  {
   "cell_type": "code",
   "execution_count": 57,
   "id": "c45d8bb4",
   "metadata": {},
   "outputs": [
    {
     "data": {
      "text/plain": [
       "[1, 5, 3, 7, 9]"
      ]
     },
     "execution_count": 57,
     "metadata": {},
     "output_type": "execute_result"
    }
   ],
   "source": [
    "liste1"
   ]
  },
  {
   "cell_type": "code",
   "execution_count": 64,
   "id": "81230fec",
   "metadata": {},
   "outputs": [],
   "source": [
    "liste1.append(\"python\")"
   ]
  },
  {
   "cell_type": "code",
   "execution_count": 65,
   "id": "87b18778",
   "metadata": {},
   "outputs": [
    {
     "data": {
      "text/plain": [
       "[1, 5, 3, 7, 9, 'python']"
      ]
     },
     "execution_count": 65,
     "metadata": {},
     "output_type": "execute_result"
    }
   ],
   "source": [
    "liste1"
   ]
  },
  {
   "cell_type": "code",
   "execution_count": 61,
   "id": "e12b402a",
   "metadata": {},
   "outputs": [
    {
     "data": {
      "text/plain": [
       "[2, 4, 6, 8]"
      ]
     },
     "execution_count": 61,
     "metadata": {},
     "output_type": "execute_result"
    }
   ],
   "source": [
    "liste2"
   ]
  },
  {
   "cell_type": "code",
   "execution_count": 62,
   "id": "26002fc4",
   "metadata": {},
   "outputs": [
    {
     "data": {
      "text/plain": [
       "[1, 5, 3, 7, 9, 2, 4, 6, 8]"
      ]
     },
     "execution_count": 62,
     "metadata": {},
     "output_type": "execute_result"
    }
   ],
   "source": [
    "liste3"
   ]
  },
  {
   "cell_type": "code",
   "execution_count": 63,
   "id": "c8b44b3f",
   "metadata": {},
   "outputs": [
    {
     "data": {
      "text/plain": [
       "[2, 4, 6, 8, 7, 17, 42, 2, 'python']"
      ]
     },
     "execution_count": 63,
     "metadata": {},
     "output_type": "execute_result"
    }
   ],
   "source": [
    "liste"
   ]
  },
  {
   "cell_type": "code",
   "execution_count": 66,
   "id": "92fa94e2",
   "metadata": {},
   "outputs": [
    {
     "data": {
      "text/plain": [
       "6"
      ]
     },
     "execution_count": 66,
     "metadata": {},
     "output_type": "execute_result"
    }
   ],
   "source": [
    "liste.pop(2)"
   ]
  },
  {
   "cell_type": "code",
   "execution_count": 67,
   "id": "6275b2ef",
   "metadata": {},
   "outputs": [
    {
     "data": {
      "text/plain": [
       "[2, 4, 8, 7, 17, 42, 2, 'python']"
      ]
     },
     "execution_count": 67,
     "metadata": {},
     "output_type": "execute_result"
    }
   ],
   "source": [
    "liste"
   ]
  },
  {
   "cell_type": "code",
   "execution_count": 68,
   "id": "88a134ec",
   "metadata": {},
   "outputs": [],
   "source": [
    "liste = [1,5,48,7,8,456,12]"
   ]
  },
  {
   "cell_type": "code",
   "execution_count": 69,
   "id": "72bf7f32",
   "metadata": {},
   "outputs": [],
   "source": [
    "liste.sort()"
   ]
  },
  {
   "cell_type": "code",
   "execution_count": 70,
   "id": "6e7c0369",
   "metadata": {},
   "outputs": [
    {
     "data": {
      "text/plain": [
       "[1, 5, 7, 8, 12, 48, 456]"
      ]
     },
     "execution_count": 70,
     "metadata": {},
     "output_type": "execute_result"
    }
   ],
   "source": [
    "liste"
   ]
  },
  {
   "cell_type": "code",
   "execution_count": 71,
   "id": "61a8094d",
   "metadata": {},
   "outputs": [
    {
     "data": {
      "text/plain": [
       "[1, 2, 3, 4, 'kaan']"
      ]
     },
     "execution_count": 71,
     "metadata": {},
     "output_type": "execute_result"
    }
   ],
   "source": [
    "liste = [1,2,3,4]\n",
    "liste = liste + [\"kaan\"]\n",
    "liste"
   ]
  },
  {
   "cell_type": "code",
   "execution_count": 72,
   "id": "6a9f269f",
   "metadata": {},
   "outputs": [
    {
     "data": {
      "text/plain": [
       "list"
      ]
     },
     "execution_count": 72,
     "metadata": {},
     "output_type": "execute_result"
    }
   ],
   "source": [
    "type(liste)"
   ]
  },
  {
   "cell_type": "code",
   "execution_count": 6,
   "id": "4152c061",
   "metadata": {},
   "outputs": [],
   "source": [
    "dict1 = {\"bir\":1,\"iki\":2,\"Üç\":3,\"Dört\":4}"
   ]
  },
  {
   "cell_type": "code",
   "execution_count": 7,
   "id": "ab8764d0",
   "metadata": {},
   "outputs": [
    {
     "data": {
      "text/plain": [
       "1"
      ]
     },
     "execution_count": 7,
     "metadata": {},
     "output_type": "execute_result"
    }
   ],
   "source": [
    "dict1[\"bir\"]"
   ]
  },
  {
   "cell_type": "code",
   "execution_count": 8,
   "id": "c39de453",
   "metadata": {},
   "outputs": [],
   "source": [
    "dict2 = {\"a\":[4,7,5,8],\"b\":[\"Ahmet\",\"Kaan\"]}"
   ]
  },
  {
   "cell_type": "code",
   "execution_count": 9,
   "id": "dcfaebaa",
   "metadata": {},
   "outputs": [
    {
     "name": "stdout",
     "output_type": "stream",
     "text": [
      "{'a': [4, 7, 5, 8], 'b': ['Ahmet', 'Kaan']}\n"
     ]
    }
   ],
   "source": [
    "print(dict2)"
   ]
  },
  {
   "cell_type": "code",
   "execution_count": 10,
   "id": "09abf647",
   "metadata": {},
   "outputs": [
    {
     "name": "stdout",
     "output_type": "stream",
     "text": [
      "{'bir': 1, 'iki': 2, 'Üç': 3, 'Dört': 4}\n"
     ]
    }
   ],
   "source": [
    "print(dict1)"
   ]
  },
  {
   "cell_type": "code",
   "execution_count": 11,
   "id": "98755e74",
   "metadata": {},
   "outputs": [
    {
     "name": "stdout",
     "output_type": "stream",
     "text": [
      "{'a': [4, 7, 5, 8], 'b': ['Ahmet', 'Kaan']}\n"
     ]
    }
   ],
   "source": [
    "print(dict2)"
   ]
  },
  {
   "cell_type": "code",
   "execution_count": 13,
   "id": "a6ea5e18",
   "metadata": {},
   "outputs": [],
   "source": [
    "a = (\"Kaan\")"
   ]
  },
  {
   "cell_type": "code",
   "execution_count": 14,
   "id": "0c99812b",
   "metadata": {},
   "outputs": [
    {
     "name": "stdout",
     "output_type": "stream",
     "text": [
      "Kaan\n"
     ]
    }
   ],
   "source": [
    "print(a)"
   ]
  },
  {
   "cell_type": "code",
   "execution_count": 1,
   "id": "49f64bb1",
   "metadata": {},
   "outputs": [
    {
     "name": "stdout",
     "output_type": "stream",
     "text": [
      "25\n"
     ]
    },
    {
     "data": {
      "text/plain": [
       "'25'"
      ]
     },
     "execution_count": 1,
     "metadata": {},
     "output_type": "execute_result"
    }
   ],
   "source": [
    "input()"
   ]
  },
  {
   "cell_type": "code",
   "execution_count": 2,
   "id": "1f2de29f",
   "metadata": {},
   "outputs": [
    {
     "name": "stdout",
     "output_type": "stream",
     "text": [
      "lütfen bir sayı giriniz25\n"
     ]
    },
    {
     "data": {
      "text/plain": [
       "'25'"
      ]
     },
     "execution_count": 2,
     "metadata": {},
     "output_type": "execute_result"
    }
   ],
   "source": [
    "input(\"lütfen bir sayı giriniz\")"
   ]
  },
  {
   "cell_type": "code",
   "execution_count": 3,
   "id": "d1f790a4",
   "metadata": {},
   "outputs": [
    {
     "name": "stdout",
     "output_type": "stream",
     "text": [
      "lütfen bir sayı giriniz:35\n",
      "Kullanıcının girdiği değer 35\n"
     ]
    }
   ],
   "source": [
    "a=input(\"lütfen bir sayı giriniz:\")\n",
    "print(\"Kullanıcının girdiği değer\",a)"
   ]
  },
  {
   "cell_type": "code",
   "execution_count": 6,
   "id": "bab4fc25",
   "metadata": {},
   "outputs": [
    {
     "name": "stdout",
     "output_type": "stream",
     "text": [
      "lütfen bir sayı giriniz:35\n",
      "353535\n"
     ]
    }
   ],
   "source": [
    " a=input(\"lütfen bir sayı giriniz:\")\n",
    "print(a * 3)\n",
    "    "
   ]
  },
  {
   "cell_type": "code",
   "execution_count": 1,
   "id": "3872971c",
   "metadata": {},
   "outputs": [
    {
     "name": "stdout",
     "output_type": "stream",
     "text": [
      "lütfen bir sayı giriniz:5\n",
      "<class 'str'>\n"
     ]
    }
   ],
   "source": [
    "a=input(\"lütfen bir sayı giriniz:\")\n",
    "print(type(a));"
   ]
  },
  {
   "cell_type": "code",
   "execution_count": 8,
   "id": "2ed29df9",
   "metadata": {},
   "outputs": [
    {
     "name": "stdout",
     "output_type": "stream",
     "text": [
      "lütfen bir sayı giriniz:35\n",
      "105\n"
     ]
    }
   ],
   "source": [
    "a=int(input(\"lütfen bir sayı giriniz:\"))\n",
    "print(a * 3)\n"
   ]
  },
  {
   "cell_type": "code",
   "execution_count": 9,
   "id": "299e43f6",
   "metadata": {},
   "outputs": [
    {
     "name": "stdout",
     "output_type": "stream",
     "text": [
      "birinci sayı:12\n",
      "ikinci sayı:15\n",
      "üçüncü sayı:13\n",
      "toplamları 40\n"
     ]
    }
   ],
   "source": [
    "a = int(input(\"birinci sayı:\")) \n",
    "b = int(input(\"ikinci sayı:\")) \n",
    "c = int(input(\"üçüncü sayı:\"))\n",
    "print(\"toplamları\",a+b+c)"
   ]
  },
  {
   "cell_type": "code",
   "execution_count": 17,
   "id": "5c4cc8b5",
   "metadata": {},
   "outputs": [
    {
     "name": "stdout",
     "output_type": "stream",
     "text": [
      "a:15asdasd\n"
     ]
    },
    {
     "ename": "ValueError",
     "evalue": "invalid literal for int() with base 10: '15asdasd'",
     "output_type": "error",
     "traceback": [
      "\u001b[1;31m---------------------------------------------------------------------------\u001b[0m",
      "\u001b[1;31mValueError\u001b[0m                                Traceback (most recent call last)",
      "Cell \u001b[1;32mIn[17], line 1\u001b[0m\n\u001b[1;32m----> 1\u001b[0m a \u001b[38;5;241m=\u001b[39m \u001b[38;5;28;43mint\u001b[39;49m\u001b[43m(\u001b[49m\u001b[38;5;28;43minput\u001b[39;49m\u001b[43m(\u001b[49m\u001b[38;5;124;43m\"\u001b[39;49m\u001b[38;5;124;43ma:\u001b[39;49m\u001b[38;5;124;43m\"\u001b[39;49m\u001b[43m)\u001b[49m\u001b[43m)\u001b[49m\n\u001b[0;32m      2\u001b[0m \u001b[38;5;28mprint\u001b[39m(a)\n",
      "\u001b[1;31mValueError\u001b[0m: invalid literal for int() with base 10: '15asdasd'"
     ]
    }
   ],
   "source": [
    "a = int(input(\"a:\"))\n",
    "print(a)"
   ]
  },
  {
   "cell_type": "code",
   "execution_count": null,
   "id": "8c2e96cc",
   "metadata": {},
   "outputs": [],
   "source": [
    "try:\n",
    "    a = a = int(input(\"a:\"))\n",
    "    print(a)\n",
    "except ValueError :\n",
    "        print(\"doğru değer gir.\")\n",
    "    "
   ]
  },
  {
   "cell_type": "code",
   "execution_count": 2,
   "id": "70f4527f",
   "metadata": {},
   "outputs": [
    {
     "name": "stdout",
     "output_type": "stream",
     "text": [
      "İsim:Kaan\n",
      "İsminiz Kaan\n"
     ]
    }
   ],
   "source": [
    "isim = input(\"İsim:\")\n",
    "print(\"İsminiz\",isim)"
   ]
  },
  {
   "cell_type": "code",
   "execution_count": 1,
   "id": "6591490f",
   "metadata": {},
   "outputs": [
    {
     "data": {
      "text/plain": [
       "True"
      ]
     },
     "execution_count": 1,
     "metadata": {},
     "output_type": "execute_result"
    }
   ],
   "source": [
    "1<2"
   ]
  },
  {
   "cell_type": "code",
   "execution_count": 3,
   "id": "374fe9ed",
   "metadata": {},
   "outputs": [
    {
     "data": {
      "text/plain": [
       "True"
      ]
     },
     "execution_count": 3,
     "metadata": {},
     "output_type": "execute_result"
    }
   ],
   "source": [
    "\"Murat\" == \"Murat\""
   ]
  },
  {
   "cell_type": "code",
   "execution_count": 4,
   "id": "4c6b0194",
   "metadata": {},
   "outputs": [
    {
     "data": {
      "text/plain": [
       "True"
      ]
     },
     "execution_count": 4,
     "metadata": {},
     "output_type": "execute_result"
    }
   ],
   "source": [
    "1<2 and \"Murat\" == \"Murat\""
   ]
  },
  {
   "cell_type": "code",
   "execution_count": 5,
   "id": "bff077f3",
   "metadata": {},
   "outputs": [
    {
     "data": {
      "text/plain": [
       "False"
      ]
     },
     "execution_count": 5,
     "metadata": {},
     "output_type": "execute_result"
    }
   ],
   "source": [
    "1>2 and \"Murat\" == \"Murat\""
   ]
  },
  {
   "cell_type": "code",
   "execution_count": 7,
   "id": "c5a9e536",
   "metadata": {},
   "outputs": [
    {
     "data": {
      "text/plain": [
       "True"
      ]
     },
     "execution_count": 7,
     "metadata": {},
     "output_type": "execute_result"
    }
   ],
   "source": [
    "1<2 or \"Murat\" == \"Murat\""
   ]
  },
  {
   "cell_type": "code",
   "execution_count": 9,
   "id": "bf946930",
   "metadata": {},
   "outputs": [
    {
     "data": {
      "text/plain": [
       "True"
      ]
     },
     "execution_count": 9,
     "metadata": {},
     "output_type": "execute_result"
    }
   ],
   "source": [
    "1>2 or \"Murat\" == \"Murat\""
   ]
  },
  {
   "cell_type": "code",
   "execution_count": 10,
   "id": "92176a3c",
   "metadata": {},
   "outputs": [
    {
     "data": {
      "text/plain": [
       "False"
      ]
     },
     "execution_count": 10,
     "metadata": {},
     "output_type": "execute_result"
    }
   ],
   "source": [
    "1>2 or \"Murat\" == \"Kaan\""
   ]
  },
  {
   "cell_type": "code",
   "execution_count": 11,
   "id": "e6c46a00",
   "metadata": {},
   "outputs": [
    {
     "data": {
      "text/plain": [
       "True"
      ]
     },
     "execution_count": 11,
     "metadata": {},
     "output_type": "execute_result"
    }
   ],
   "source": [
    "2 == 2"
   ]
  },
  {
   "cell_type": "code",
   "execution_count": 12,
   "id": "801fc3c9",
   "metadata": {},
   "outputs": [
    {
     "data": {
      "text/plain": [
       "False"
      ]
     },
     "execution_count": 12,
     "metadata": {},
     "output_type": "execute_result"
    }
   ],
   "source": [
    "not 2==2"
   ]
  },
  {
   "cell_type": "code",
   "execution_count": 13,
   "id": "c6f8c248",
   "metadata": {},
   "outputs": [
    {
     "data": {
      "text/plain": [
       "True"
      ]
     },
     "execution_count": 13,
     "metadata": {},
     "output_type": "execute_result"
    }
   ],
   "source": [
    "not 3==2"
   ]
  },
  {
   "cell_type": "code",
   "execution_count": 14,
   "id": "4b82374d",
   "metadata": {},
   "outputs": [
    {
     "data": {
      "text/plain": [
       "False"
      ]
     },
     "execution_count": 14,
     "metadata": {},
     "output_type": "execute_result"
    }
   ],
   "source": [
    "3 == 2"
   ]
  },
  {
   "cell_type": "code",
   "execution_count": 22,
   "id": "e8e5baf5",
   "metadata": {},
   "outputs": [
    {
     "name": "stdout",
     "output_type": "stream",
     "text": [
      "Yaşınızı Girin:19\n",
      "Hoşgeldiniz\n"
     ]
    }
   ],
   "source": [
    "Yaş = int(input(\"Yaşınızı Girin:\"))\n",
    "if Yaş < 18:\n",
    "    print(\"Mekana Giremezsiniz\")\n",
    "else:\n",
    "    print(\"Hoşgeldiniz\")\n",
    "    \n"
   ]
  },
  {
   "cell_type": "code",
   "execution_count": 32,
   "id": "6ca83ff1",
   "metadata": {},
   "outputs": [
    {
     "name": "stdout",
     "output_type": "stream",
     "text": [
      "İşlem Seçiniz:1\n",
      "İşlem 1 Seçildi\n"
     ]
    }
   ],
   "source": [
    "işlem = input(\"İşlem Seçiniz:\")\n",
    "if işlem == \"1\":\n",
    "    print(\"İşlem 1 Seçildi\")\n",
    "elif işlem == \"2\":\n",
    "    print(\"İşlem 2 Seçildi\")\n",
    "elif işlem == \"3\":\n",
    "    print(\"İşlem 3 Seçildi\")\n",
    "else:\n",
    "    print(\"Siktir Git\")"
   ]
  },
  {
   "cell_type": "code",
   "execution_count": null,
   "id": "c2fb0826",
   "metadata": {},
   "outputs": [],
   "source": [
    "Not = int(input(\"Not giriniz:\"))\n",
    "if Not == 100:\n",
    "    print(\"AA\")\n",
    "elif Not >= 85:\n",
    "    print(\"BA\")\n",
    "elif Not >= 70:\n",
    "    print(\"BB\")\n",
    "elif Not >= 60:\n",
    "    print(\"BC\")\n",
    "elif Not >= 50:\n",
    "    print(\"CC\")\n",
    "elif Not >= 45:\n",
    "    print(\"CD\")\n",
    "else:\n",
    "    print(\"FF\")"
   ]
  },
  {
   "cell_type": "code",
   "execution_count": 1,
   "id": "a033f2eb",
   "metadata": {},
   "outputs": [
    {
     "data": {
      "text/plain": [
       "False"
      ]
     },
     "execution_count": 1,
     "metadata": {},
     "output_type": "execute_result"
    }
   ],
   "source": [
    "5 in [1,2,3,4]"
   ]
  },
  {
   "cell_type": "code",
   "execution_count": 2,
   "id": "2a3d6a6c",
   "metadata": {},
   "outputs": [
    {
     "data": {
      "text/plain": [
       "True"
      ]
     },
     "execution_count": 2,
     "metadata": {},
     "output_type": "execute_result"
    }
   ],
   "source": [
    "2 in [1,2,3,4]"
   ]
  },
  {
   "cell_type": "code",
   "execution_count": 3,
   "id": "ee907b42",
   "metadata": {},
   "outputs": [
    {
     "data": {
      "text/plain": [
       "True"
      ]
     },
     "execution_count": 3,
     "metadata": {},
     "output_type": "execute_result"
    }
   ],
   "source": [
    "\"p\" in \"python\""
   ]
  },
  {
   "cell_type": "code",
   "execution_count": 4,
   "id": "65ef8c41",
   "metadata": {},
   "outputs": [
    {
     "data": {
      "text/plain": [
       "False"
      ]
     },
     "execution_count": 4,
     "metadata": {},
     "output_type": "execute_result"
    }
   ],
   "source": [
    "\"c\" in \"python\""
   ]
  },
  {
   "cell_type": "code",
   "execution_count": 5,
   "id": "e7cd7bb0",
   "metadata": {},
   "outputs": [
    {
     "data": {
      "text/plain": [
       "True"
      ]
     },
     "execution_count": 5,
     "metadata": {},
     "output_type": "execute_result"
    }
   ],
   "source": [
    "not \"c\" in \"python\""
   ]
  },
  {
   "cell_type": "code",
   "execution_count": 7,
   "id": "c0d30404",
   "metadata": {},
   "outputs": [
    {
     "name": "stdout",
     "output_type": "stream",
     "text": [
      "1\n",
      "2\n",
      "3\n",
      "4\n",
      "5\n",
      "6\n",
      "7\n"
     ]
    }
   ],
   "source": [
    "liste = [1,2,3,4,5,6,7]\n",
    "\n",
    "for eleman in liste:\n",
    "    print(eleman)"
   ]
  },
  {
   "cell_type": "code",
   "execution_count": 9,
   "id": "a5563f89",
   "metadata": {},
   "outputs": [
    {
     "name": "stdout",
     "output_type": "stream",
     "text": [
      "Toplam: 1 Eleman : 1\n",
      "Toplam: 3 Eleman : 2\n",
      "Toplam: 6 Eleman : 3\n",
      "Toplam: 10 Eleman : 4\n",
      "Toplam: 15 Eleman : 5\n",
      "Toplam: 21 Eleman : 6\n",
      "Toplam: 28 Eleman : 7\n",
      "28\n"
     ]
    }
   ],
   "source": [
    "toplam = 0\n",
    "liste = [1,2,3,4,5,6,7]\n",
    "for eleman in liste:\n",
    "    toplam = toplam + eleman\n",
    "    print(\"Toplam: {} Eleman : {}\".format(toplam,eleman))\n",
    "print(toplam)    "
   ]
  },
  {
   "cell_type": "code",
   "execution_count": 10,
   "id": "77d24bfc",
   "metadata": {},
   "outputs": [
    {
     "data": {
      "text/plain": [
       "0"
      ]
     },
     "execution_count": 10,
     "metadata": {},
     "output_type": "execute_result"
    }
   ],
   "source": [
    "54 % 2"
   ]
  },
  {
   "cell_type": "code",
   "execution_count": 13,
   "id": "948e870c",
   "metadata": {},
   "outputs": [
    {
     "name": "stdout",
     "output_type": "stream",
     "text": [
      "2\n",
      "4\n",
      "54\n",
      "78\n"
     ]
    }
   ],
   "source": [
    "liste = [1,2,3,4,54,63,78]\n",
    "\n",
    "for eleman in liste:\n",
    "    if eleman % 2 == 0:\n",
    "        print(eleman)"
   ]
  },
  {
   "cell_type": "code",
   "execution_count": 14,
   "id": "9210ead3",
   "metadata": {},
   "outputs": [
    {
     "name": "stdout",
     "output_type": "stream",
     "text": [
      "P\n",
      "y\n",
      "t\n",
      "h\n",
      "o\n",
      "n\n"
     ]
    }
   ],
   "source": [
    "s = \"Python\"\n",
    "for i in s:\n",
    "    print(i)"
   ]
  },
  {
   "cell_type": "code",
   "execution_count": 15,
   "id": "f5a1212e",
   "metadata": {},
   "outputs": [
    {
     "name": "stdout",
     "output_type": "stream",
     "text": [
      "PPP\n",
      "yyy\n",
      "ttt\n",
      "hhh\n",
      "ooo\n",
      "nnn\n"
     ]
    }
   ],
   "source": [
    "s = \"Python\"\n",
    "for i in s:\n",
    "    print(i * 3)"
   ]
  },
  {
   "cell_type": "code",
   "execution_count": 16,
   "id": "794d4e6c",
   "metadata": {},
   "outputs": [
    {
     "name": "stdout",
     "output_type": "stream",
     "text": [
      "1\n",
      "2\n",
      "3\n",
      "4\n"
     ]
    }
   ],
   "source": [
    "demet = (1,2,3,4)\n",
    "\n",
    "for a in demet:\n",
    "    print(a)"
   ]
  },
  {
   "cell_type": "code",
   "execution_count": 17,
   "id": "0744f980",
   "metadata": {},
   "outputs": [
    {
     "name": "stdout",
     "output_type": "stream",
     "text": [
      "(1, 2)\n",
      "(3, 4)\n",
      "(5, 6)\n",
      "(7, 8)\n"
     ]
    }
   ],
   "source": [
    "liste = [(1,2),(3,4),(5,6),(7,8)]\n",
    "\n",
    "for eleman in liste:\n",
    "    print(eleman)"
   ]
  },
  {
   "cell_type": "code",
   "execution_count": 19,
   "id": "7fffc872",
   "metadata": {},
   "outputs": [
    {
     "name": "stdout",
     "output_type": "stream",
     "text": [
      "a: 1 b: 2\n",
      "a: 3 b: 4\n",
      "a: 5 b: 6\n",
      "a: 7 b: 8\n"
     ]
    }
   ],
   "source": [
    "for (a,b) in liste:\n",
    "    print(\"a: {} b: {}\".format(a,b))"
   ]
  },
  {
   "cell_type": "code",
   "execution_count": 29,
   "id": "6dc96eb9",
   "metadata": {},
   "outputs": [
    {
     "name": "stdout",
     "output_type": "stream",
     "text": [
      "i : 1 j: 2 k: 3 \n",
      "i : 4 j: 5 k: 6 \n",
      "i : 7 j: 8 k: 9 \n",
      "i : 10 j: 11 k: 12 \n"
     ]
    }
   ],
   "source": [
    " liste = [(1,2,3),(4,5,6),(7,8,9),(10,11,12)]\n",
    "\n",
    "for (i,j,k) in liste:\n",
    "    print(\"i : {} j: {} k: {} \".format(i,j,k))"
   ]
  },
  {
   "cell_type": "code",
   "execution_count": 31,
   "id": "06895cd5",
   "metadata": {},
   "outputs": [
    {
     "name": "stdout",
     "output_type": "stream",
     "text": [
      "bir\n",
      "iki\n",
      "üç\n",
      "dört\n"
     ]
    }
   ],
   "source": [
    "sözlük = {\"bir\":1,\"iki\":2,\"üç\":3,\"dört\":4}\n",
    "\n",
    "for eleman in sözlük:\n",
    "    print(eleman)\n"
   ]
  },
  {
   "cell_type": "code",
   "execution_count": 33,
   "id": "6dd2db60",
   "metadata": {},
   "outputs": [
    {
     "name": "stdout",
     "output_type": "stream",
     "text": [
      "1\n",
      "2\n",
      "3\n",
      "4\n"
     ]
    }
   ],
   "source": [
    "for eleman in sözlük.values():\n",
    "    print(eleman)"
   ]
  },
  {
   "cell_type": "code",
   "execution_count": 34,
   "id": "6c328378",
   "metadata": {},
   "outputs": [
    {
     "name": "stdout",
     "output_type": "stream",
     "text": [
      "('bir', 1)\n",
      "('iki', 2)\n",
      "('üç', 3)\n",
      "('dört', 4)\n"
     ]
    }
   ],
   "source": [
    "for eleman in sözlük.items():\n",
    "    print(eleman)"
   ]
  },
  {
   "cell_type": "code",
   "execution_count": 35,
   "id": "a08423f7",
   "metadata": {},
   "outputs": [
    {
     "name": "stdout",
     "output_type": "stream",
     "text": [
      "Anahtar: bir Değer: 1\n",
      "Anahtar: iki Değer: 2\n",
      "Anahtar: üç Değer: 3\n",
      "Anahtar: dört Değer: 4\n"
     ]
    }
   ],
   "source": [
    "for i,j in sözlük.items():\n",
    "    print(\"Anahtar:\",i,\"Değer:\",j)"
   ]
  },
  {
   "cell_type": "code",
   "execution_count": 36,
   "id": "3360c100",
   "metadata": {},
   "outputs": [
    {
     "name": "stdout",
     "output_type": "stream",
     "text": [
      "28\n"
     ]
    }
   ],
   "source": [
    "liste = [2,1,10,2,23,1,56,3]\n",
    " \n",
    "total = 0\n",
    "for i in liste:\n",
    "    if (not (i % 2 == 0)):\n",
    "        total += i\n",
    " \n",
    "print(total)"
   ]
  },
  {
   "cell_type": "code",
   "execution_count": 37,
   "id": "95580ea3",
   "metadata": {},
   "outputs": [
    {
     "name": "stdout",
     "output_type": "stream",
     "text": [
      "i'nin değeri 0\n",
      "i'nin değeri 1\n",
      "i'nin değeri 2\n",
      "i'nin değeri 3\n",
      "i'nin değeri 4\n",
      "i'nin değeri 5\n",
      "i'nin değeri 6\n",
      "i'nin değeri 7\n",
      "i'nin değeri 8\n",
      "i'nin değeri 9\n"
     ]
    }
   ],
   "source": [
    "i = 0\n",
    "\n",
    "while (i<10):\n",
    "    print(\"i'nin değeri\",i)\n",
    "    i +=1"
   ]
  },
  {
   "cell_type": "code",
   "execution_count": 38,
   "id": "b38e63dd",
   "metadata": {},
   "outputs": [
    {
     "name": "stdout",
     "output_type": "stream",
     "text": [
      "i'nin değeri 0\n",
      "i'nin değeri 2\n",
      "i'nin değeri 4\n",
      "i'nin değeri 6\n",
      "i'nin değeri 8\n",
      "i'nin değeri 10\n",
      "i'nin değeri 12\n",
      "i'nin değeri 14\n",
      "i'nin değeri 16\n",
      "i'nin değeri 18\n"
     ]
    }
   ],
   "source": [
    "i = 0\n",
    "\n",
    "while (i<20):\n",
    "    print(\"i'nin değeri\",i)\n",
    "    i +=2"
   ]
  },
  {
   "cell_type": "code",
   "execution_count": 41,
   "id": "887f0eef",
   "metadata": {},
   "outputs": [
    {
     "name": "stdout",
     "output_type": "stream",
     "text": [
      "Python Öğreniyorum...\n",
      "Python Öğreniyorum...\n",
      "Python Öğreniyorum...\n",
      "Python Öğreniyorum...\n",
      "Python Öğreniyorum...\n",
      "Python Öğreniyorum...\n",
      "Python Öğreniyorum...\n",
      "Python Öğreniyorum...\n",
      "Python Öğreniyorum...\n",
      "Python Öğreniyorum...\n",
      "Python Öğreniyorum...\n",
      "Python Öğreniyorum...\n",
      "Python Öğreniyorum...\n",
      "Python Öğreniyorum...\n",
      "Python Öğreniyorum...\n",
      "Python Öğreniyorum...\n",
      "Python Öğreniyorum...\n",
      "Python Öğreniyorum...\n",
      "Python Öğreniyorum...\n",
      "Python Öğreniyorum...\n",
      "Python Öğreniyorum...\n",
      "Python Öğreniyorum...\n",
      "Python Öğreniyorum...\n",
      "Python Öğreniyorum...\n",
      "Python Öğreniyorum...\n",
      "Python Öğreniyorum...\n",
      "Python Öğreniyorum...\n",
      "Python Öğreniyorum...\n",
      "Python Öğreniyorum...\n",
      "Python Öğreniyorum...\n",
      "Python Öğreniyorum...\n",
      "Python Öğreniyorum...\n",
      "Python Öğreniyorum...\n",
      "Python Öğreniyorum...\n",
      "Python Öğreniyorum...\n",
      "Python Öğreniyorum...\n",
      "Python Öğreniyorum...\n",
      "Python Öğreniyorum...\n",
      "Python Öğreniyorum...\n",
      "Python Öğreniyorum...\n"
     ]
    }
   ],
   "source": [
    "a = 0\n",
    "\n",
    "while(a<40):\n",
    "    print(\"Python Öğreniyorum...\")\n",
    "    a +=1"
   ]
  },
  {
   "cell_type": "code",
   "execution_count": 43,
   "id": "3c0b75b6",
   "metadata": {},
   "outputs": [
    {
     "name": "stdout",
     "output_type": "stream",
     "text": [
      "1\n",
      "2\n",
      "3\n",
      "4\n",
      "5\n"
     ]
    }
   ],
   "source": [
    "liste = [1,2,3,4,5]\n",
    "\n",
    "for i in liste:\n",
    "    print(i)"
   ]
  },
  {
   "cell_type": "code",
   "execution_count": 44,
   "id": "3162cd67",
   "metadata": {},
   "outputs": [
    {
     "name": "stdout",
     "output_type": "stream",
     "text": [
      "index: 0 liste elemanı: 1\n",
      "index: 1 liste elemanı: 2\n",
      "index: 2 liste elemanı: 3\n",
      "index: 3 liste elemanı: 4\n",
      "index: 4 liste elemanı: 5\n"
     ]
    }
   ],
   "source": [
    "index = 0\n",
    "\n",
    "while(index < len(liste)):\n",
    "    print(\"index:\",index,\"liste elemanı:\",liste[index])\n",
    "    index += 1"
   ]
  },
  {
   "cell_type": "code",
   "execution_count": 46,
   "id": "87f44583",
   "metadata": {},
   "outputs": [
    {
     "name": "stdout",
     "output_type": "stream",
     "text": [
      "0 1 2 3 4 5 6 7 8 9 10 11 12 13 14 15 16 17 18 19\n"
     ]
    }
   ],
   "source": [
    "range(0,20)\n",
    "print(*range(0,20))"
   ]
  },
  {
   "cell_type": "code",
   "execution_count": 47,
   "id": "0889b0a7",
   "metadata": {},
   "outputs": [
    {
     "name": "stdout",
     "output_type": "stream",
     "text": [
      "1 2 3 4 5 6 7 8 9 10 11 12 13 14 15 16 17 18 19\n"
     ]
    }
   ],
   "source": [
    "print(*range(1,20))"
   ]
  },
  {
   "cell_type": "code",
   "execution_count": 48,
   "id": "84e976a6",
   "metadata": {},
   "outputs": [
    {
     "name": "stdout",
     "output_type": "stream",
     "text": [
      "0 1 2 3 4 5 6 7 8 9 10 11 12 13 14\n"
     ]
    }
   ],
   "source": [
    "print(*range(15))"
   ]
  },
  {
   "cell_type": "code",
   "execution_count": 50,
   "id": "e9570da5",
   "metadata": {},
   "outputs": [
    {
     "name": "stdout",
     "output_type": "stream",
     "text": [
      "0 2 4 6 8 10 12 14 16 18 20 22 24 26 28 30 32 34 36 38 40 42 44 46 48 50 52 54 56 58 60 62 64 66 68 70 72 74 76 78 80 82 84 86 88 90 92 94 96 98\n"
     ]
    }
   ],
   "source": [
    "print(*range(0,100,2))"
   ]
  },
  {
   "cell_type": "code",
   "execution_count": 51,
   "id": "77aa2738",
   "metadata": {},
   "outputs": [
    {
     "name": "stdout",
     "output_type": "stream",
     "text": [
      "5 10 15 20 25 30 35 40 45 50 55 60 65 70 75 80 85 90 95\n"
     ]
    }
   ],
   "source": [
    "print(*range(5,100,5))"
   ]
  },
  {
   "cell_type": "code",
   "execution_count": 52,
   "id": "a91ac67a",
   "metadata": {},
   "outputs": [
    {
     "name": "stdout",
     "output_type": "stream",
     "text": [
      "\n"
     ]
    }
   ],
   "source": [
    "print(*range(20,0))"
   ]
  },
  {
   "cell_type": "code",
   "execution_count": 53,
   "id": "066c1c17",
   "metadata": {},
   "outputs": [
    {
     "name": "stdout",
     "output_type": "stream",
     "text": [
      "20 19 18 17 16 15 14 13 12 11 10 9 8 7 6 5 4 3 2 1\n"
     ]
    }
   ],
   "source": [
    "print(*range(20,0,-1))"
   ]
  },
  {
   "cell_type": "code",
   "execution_count": 54,
   "id": "d0eb9503",
   "metadata": {},
   "outputs": [
    {
     "name": "stdout",
     "output_type": "stream",
     "text": [
      "1\n",
      "2\n",
      "3\n",
      "4\n",
      "5\n"
     ]
    }
   ],
   "source": [
    "liste = [1,2,3,4,5]\n",
    "\n",
    "for i in liste:\n",
    "    print(i)"
   ]
  },
  {
   "cell_type": "code",
   "execution_count": 55,
   "id": "6aa60a33",
   "metadata": {},
   "outputs": [
    {
     "name": "stdout",
     "output_type": "stream",
     "text": [
      "1\n",
      "2\n",
      "3\n",
      "4\n",
      "5\n",
      "6\n",
      "7\n",
      "8\n",
      "9\n",
      "10\n",
      "11\n",
      "12\n",
      "13\n",
      "14\n",
      "15\n",
      "16\n",
      "17\n",
      "18\n",
      "19\n"
     ]
    }
   ],
   "source": [
    "for i in range (1,20):\n",
    "    print(i)"
   ]
  },
  {
   "cell_type": "code",
   "execution_count": 58,
   "id": "ed8f5b24",
   "metadata": {},
   "outputs": [
    {
     "name": "stdout",
     "output_type": "stream",
     "text": [
      "*\n",
      "**\n",
      "***\n",
      "****\n",
      "*****\n",
      "******\n",
      "*******\n",
      "********\n",
      "*********\n",
      "**********\n",
      "***********\n",
      "************\n",
      "*************\n",
      "**************\n",
      "***************\n",
      "****************\n",
      "*****************\n",
      "******************\n",
      "*******************\n"
     ]
    }
   ],
   "source": [
    "for i in range(1,20):\n",
    "    print(\"*\" * i)"
   ]
  },
  {
   "cell_type": "code",
   "execution_count": 15,
   "id": "5aa1c64d",
   "metadata": {},
   "outputs": [
    {
     "name": "stdout",
     "output_type": "stream",
     "text": [
      "\n",
      "Kaan\n",
      "KaanKaan\n",
      "KaanKaanKaan\n",
      "KaanKaanKaanKaan\n",
      "KaanKaanKaanKaanKaan\n",
      "KaanKaanKaanKaanKaanKaan\n",
      "KaanKaanKaanKaanKaanKaanKaan\n",
      "KaanKaanKaanKaanKaanKaanKaanKaan\n",
      "KaanKaanKaanKaanKaanKaanKaanKaanKaan\n",
      "KaanKaanKaanKaanKaanKaanKaanKaanKaanKaan\n",
      "KaanKaanKaanKaanKaanKaanKaanKaanKaanKaanKaan\n",
      "KaanKaanKaanKaanKaanKaanKaanKaanKaanKaanKaanKaan\n",
      "KaanKaanKaanKaanKaanKaanKaanKaanKaanKaanKaanKaanKaan\n",
      "KaanKaanKaanKaanKaanKaanKaanKaanKaanKaanKaanKaanKaanKaan\n",
      "KaanKaanKaanKaanKaanKaanKaanKaanKaanKaanKaanKaanKaanKaanKaan\n",
      "KaanKaanKaanKaanKaanKaanKaanKaanKaanKaanKaanKaanKaanKaanKaanKaan\n",
      "KaanKaanKaanKaanKaanKaanKaanKaanKaanKaanKaanKaanKaanKaanKaanKaanKaan\n",
      "KaanKaanKaanKaanKaanKaanKaanKaanKaanKaanKaanKaanKaanKaanKaanKaanKaanKaan\n",
      "KaanKaanKaanKaanKaanKaanKaanKaanKaanKaanKaanKaanKaanKaanKaanKaanKaanKaanKaan\n"
     ]
    }
   ],
   "source": [
    "for i in range(0,20):\n",
    "    print(\"Kaan\" * i)"
   ]
  },
  {
   "cell_type": "code",
   "execution_count": 1,
   "id": "961bac33",
   "metadata": {},
   "outputs": [
    {
     "name": "stdout",
     "output_type": "stream",
     "text": [
      "i: 0\n",
      "i: 1\n",
      "i: 2\n",
      "i: 3\n",
      "i: 4\n",
      "i: 5\n",
      "i: 6\n",
      "i: 7\n",
      "i: 8\n",
      "i: 9\n"
     ]
    }
   ],
   "source": [
    "i = 0\n",
    "\n",
    "while(i<10):\n",
    "    print(\"i:\",i)\n",
    "    i+=1"
   ]
  },
  {
   "cell_type": "code",
   "execution_count": 2,
   "id": "7c68e227",
   "metadata": {},
   "outputs": [
    {
     "name": "stdout",
     "output_type": "stream",
     "text": [
      "i: 0\n",
      "i: 1\n",
      "i: 2\n",
      "i: 3\n",
      "i: 4\n"
     ]
    }
   ],
   "source": [
    "i = 0\n",
    "\n",
    "while(i<10):\n",
    "    if(i==5):\n",
    "        break\n",
    "    print(\"i:\",i)\n",
    "    i+=1"
   ]
  },
  {
   "cell_type": "code",
   "execution_count": 5,
   "id": "990599a5",
   "metadata": {},
   "outputs": [
    {
     "name": "stdout",
     "output_type": "stream",
     "text": [
      "i: 1\n",
      "i: 2\n"
     ]
    }
   ],
   "source": [
    "liste = [1,2,3,4,5]\n",
    "\n",
    "for i in liste:\n",
    "    if (i==3):\n",
    "        break\n",
    "    print(\"i:\",i)"
   ]
  },
  {
   "cell_type": "code",
   "execution_count": 7,
   "id": "1a064ae3",
   "metadata": {},
   "outputs": [
    {
     "name": "stdout",
     "output_type": "stream",
     "text": [
      "İsim(çıkmak için 'q' ya basın):Kaan\n",
      "İsminiz: Kaan\n",
      "İsim(çıkmak için 'q' ya basın):q\n",
      "Programdan Çıkılıyor...\n"
     ]
    }
   ],
   "source": [
    "while True:\n",
    "    isim = input(\"İsim(çıkmak için 'q' ya basın):\")\n",
    "    if (isim == \"q\"):\n",
    "        print(\"Programdan Çıkılıyor...\")\n",
    "        break\n",
    "    print(\"İsminiz:\",isim)"
   ]
  },
  {
   "cell_type": "code",
   "execution_count": 9,
   "id": "e31b0326",
   "metadata": {},
   "outputs": [
    {
     "name": "stdout",
     "output_type": "stream",
     "text": [
      "[0, 1, 2, 3, 4, 5, 6, 7, 8, 9, 10, 11, 12, 13, 14]\n"
     ]
    }
   ],
   "source": [
    "liste = list(range(15))\n",
    "print(liste)"
   ]
  },
  {
   "cell_type": "code",
   "execution_count": 11,
   "id": "4c16d799",
   "metadata": {},
   "outputs": [
    {
     "name": "stdout",
     "output_type": "stream",
     "text": [
      "i: 0\n",
      "i: 1\n",
      "i: 2\n",
      "i: 3\n",
      "i: 4\n",
      "i: 5\n",
      "i: 6\n",
      "i: 7\n",
      "i: 8\n",
      "i: 9\n",
      "i: 10\n",
      "i: 11\n",
      "i: 12\n",
      "i: 13\n",
      "i: 14\n"
     ]
    }
   ],
   "source": [
    "for i in liste:\n",
    "    print(\"i:\",i)"
   ]
  },
  {
   "cell_type": "code",
   "execution_count": 12,
   "id": "3982010c",
   "metadata": {},
   "outputs": [
    {
     "name": "stdout",
     "output_type": "stream",
     "text": [
      "i: 0\n",
      "i: 1\n",
      "i: 2\n",
      "i: 4\n",
      "i: 5\n",
      "i: 6\n",
      "i: 7\n",
      "i: 8\n",
      "i: 9\n",
      "i: 10\n",
      "i: 11\n",
      "i: 12\n",
      "i: 14\n"
     ]
    }
   ],
   "source": [
    "for i in liste:\n",
    "    if(i==3 or i == 13):\n",
    "        continue\n",
    "    print(\"i:\",i)"
   ]
  },
  {
   "cell_type": "code",
   "execution_count": 19,
   "id": "68ab185f",
   "metadata": {},
   "outputs": [
    {
     "name": "stdout",
     "output_type": "stream",
     "text": [
      "1\n",
      "3\n",
      "4\n",
      "6\n",
      "7\n",
      "8\n",
      "9\n"
     ]
    }
   ],
   "source": [
    "i = 1\n",
    "while (i < 10):\n",
    "    if(not(i == 2) and not(i == 5)):\n",
    "        print(i)\n",
    "    i += 1"
   ]
  },
  {
   "cell_type": "code",
   "execution_count": 20,
   "id": "6946210c",
   "metadata": {},
   "outputs": [
    {
     "name": "stdout",
     "output_type": "stream",
     "text": [
      "[1, 2, 3, 4, 5]\n"
     ]
    }
   ],
   "source": [
    "liste1 = [1,2,3,4,5]\n",
    "\n",
    "liste2 =list()\n",
    "\n",
    "for i in liste1:\n",
    "    liste2.append(i)\n",
    "print(liste2)"
   ]
  },
  {
   "cell_type": "code",
   "execution_count": 21,
   "id": "eddceb82",
   "metadata": {},
   "outputs": [
    {
     "name": "stdout",
     "output_type": "stream",
     "text": [
      "[1, 2, 3, 4, 5]\n"
     ]
    }
   ],
   "source": [
    "liste3 = [1,2,3,4,5]\n",
    "\n",
    "liste4 = [i for i in liste3]\n",
    "print(liste4)"
   ]
  },
  {
   "cell_type": "code",
   "execution_count": 22,
   "id": "4b12658d",
   "metadata": {},
   "outputs": [
    {
     "name": "stdout",
     "output_type": "stream",
     "text": [
      "[8, 10, 12, 14, 16, 18]\n"
     ]
    }
   ],
   "source": [
    "liste = [4,5,6,7,8,9]\n",
    "\n",
    "liste1 = [i * 2 for i in liste]\n",
    "print(liste1)"
   ]
  },
  {
   "cell_type": "code",
   "execution_count": 24,
   "id": "1102846b",
   "metadata": {},
   "outputs": [
    {
     "name": "stdout",
     "output_type": "stream",
     "text": [
      "[(1, 2), (4, 5), (8, 9)]\n"
     ]
    }
   ],
   "source": [
    "liste = [(1,2),(4,5),(8,9)]\n",
    "\n",
    "liste1 = [(i,j) for i,j in liste]\n",
    "print(liste1)"
   ]
  },
  {
   "cell_type": "code",
   "execution_count": 25,
   "id": "e006b47d",
   "metadata": {},
   "outputs": [
    {
     "name": "stdout",
     "output_type": "stream",
     "text": [
      "[2, 20, 72]\n"
     ]
    }
   ],
   "source": [
    "liste = [(1,2),(4,5),(8,9)]\n",
    "\n",
    "liste1 = [(i*j) for i,j in liste]\n",
    "print(liste1)"
   ]
  },
  {
   "cell_type": "code",
   "execution_count": 27,
   "id": "934e9a1b",
   "metadata": {},
   "outputs": [
    {
     "name": "stdout",
     "output_type": "stream",
     "text": [
      "['PPPPP', 'yyyyy', 'ttttt', 'hhhhh', 'ooooo', 'nnnnn']\n"
     ]
    }
   ],
   "source": [
    "s = \"Python\"\n",
    "\n",
    "liste1 = [i*5 for i in s]\n",
    "print(liste1)"
   ]
  },
  {
   "cell_type": "code",
   "execution_count": 28,
   "id": "fc64e718",
   "metadata": {},
   "outputs": [
    {
     "name": "stdout",
     "output_type": "stream",
     "text": [
      "[1, 2, 3, 4, 5, 6, 7, 8, 9, 10, 11, 12]\n"
     ]
    }
   ],
   "source": [
    "liste = [(1,2,3),(4,5,6),(7,8,9,10,11,12)]\n",
    "\n",
    "liste1 = list()\n",
    "\n",
    "for i in liste:\n",
    "    for x in i:\n",
    "        liste1.append(x)\n",
    "print(liste1)        "
   ]
  },
  {
   "cell_type": "code",
   "execution_count": 29,
   "id": "e9165cee",
   "metadata": {},
   "outputs": [
    {
     "name": "stdout",
     "output_type": "stream",
     "text": [
      "[1, 2, 3, 4, 5, 6, 7, 8, 9, 10, 11, 12]\n"
     ]
    }
   ],
   "source": [
    "liste = [(1,2,3),(4,5,6),(7,8,9,10,11,12)]\n",
    "\n",
    "liste1 = [x for i in liste for x in i ]\n",
    "\n",
    "print(liste1)\n"
   ]
  },
  {
   "cell_type": "code",
   "execution_count": 1,
   "id": "7147490c",
   "metadata": {},
   "outputs": [
    {
     "name": "stdout",
     "output_type": "stream",
     "text": [
      "Ad:Kaan\n",
      "Soyad:Selvitopu\n",
      "Numara:4568789,\n",
      "\n",
      "Bilgiler...\n",
      "\n",
      "Kaan\n",
      "Selvitopu\n",
      "4568789,\n"
     ]
    }
   ],
   "source": [
    "ad = input(\"Ad:\")\n",
    "soyad = input(\"Soyad:\")\n",
    "numara = input(\"Numara:\")\n",
    "print(\"\\nBilgiler...\\n\")\n",
    "print(\"{}\\n{}\\n{}\".format(ad,soyad,numara))"
   ]
  },
  {
   "cell_type": "code",
   "execution_count": 4,
   "id": "70f075b4",
   "metadata": {},
   "outputs": [
    {
     "name": "stdout",
     "output_type": "stream",
     "text": [
      "Kilometrede Yakan Miktar:0.50\n",
      "Kaç Kilometre Yol yaptınız350\n",
      "Tutar:175.0 tl\n"
     ]
    }
   ],
   "source": [
    "yakan_miktar = float(input(\"Kilometrede Yakan Miktar:\"))\n",
    "\n",
    "kilometre = int(input(\"Kaç Kilometre Yol yaptınız\"))\n",
    "\n",
    "print(\"Tutar:{} tl\".format(yakan_miktar * kilometre))"
   ]
  },
  {
   "cell_type": "code",
   "execution_count": 5,
   "id": "7c335f89",
   "metadata": {},
   "outputs": [
    {
     "name": "stdout",
     "output_type": "stream",
     "text": [
      "a:5\n",
      "b:3\n",
      "Değiştirilmeden Önce Sayılar\n",
      "a:5 b:3\n",
      "\n",
      "Değiştirildikten sonra sayılar\n",
      "a:3 b 5\n",
      "\n"
     ]
    }
   ],
   "source": [
    "a = input(\"a:\")\n",
    "b = input(\"b:\")\n",
    "print(\"Değiştirilmeden Önce Sayılar\\na:{} b:{}\\n\".format(a,b))\n",
    "a,b = b,a\n",
    "\n",
    "print(\"Değiştirildikten sonra sayılar\\na:{} b {}\\n\".format(a,b))"
   ]
  },
  {
   "cell_type": "code",
   "execution_count": 7,
   "id": "ce073588",
   "metadata": {},
   "outputs": [
    {
     "name": "stdout",
     "output_type": "stream",
     "text": [
      "a:5\n",
      "b:12\n",
      "Hipotenüs 13.0\n"
     ]
    }
   ],
   "source": [
    "a = int(input(\"a:\"))\n",
    "\n",
    "b = int(input(\"b:\"))\n",
    "\n",
    "c = (a**2 + b**2)**0.5\n",
    "\n",
    "print(\"Hipotenüs\",c)"
   ]
  },
  {
   "cell_type": "code",
   "execution_count": 12,
   "id": "85ca6e27",
   "metadata": {},
   "outputs": [
    {
     "name": "stdout",
     "output_type": "stream",
     "text": [
      "a:7\n",
      "b:12\n",
      "c:18\n",
      "En büyük sayı: 18\n"
     ]
    }
   ],
   "source": [
    "a = int(input(\"a:\"))\n",
    "\n",
    "b = int(input(\"b:\"))\n",
    "\n",
    "c = int(input(\"c:\"))\n",
    "\n",
    "if (a>b and a>c):\n",
    "    print(\"En büyük sayı:\",a)\n",
    "elif ((b>a) and (b>c)):\n",
    "    print(\"En büyük sayı:\",b)\n",
    "elif (c >= a and c >= b):\n",
    "    print(\"En büyük sayı:\",c)\n",
    "    "
   ]
  },
  {
   "cell_type": "code",
   "execution_count": 3,
   "id": "ff0fd782",
   "metadata": {
    "scrolled": true
   },
   "outputs": [
    {
     "name": "stdout",
     "output_type": "stream",
     "text": [
      "Vize1:35\n",
      "Vize2:48\n",
      "Final:79\n",
      "not: 56.5\n",
      "FD\n"
     ]
    }
   ],
   "source": [
    "vize1 = int(input(\"Vize1:\"))\n",
    "\n",
    "vize2 = int(input(\"Vize2:\"))\n",
    "\n",
    "final = int(input(\"Final:\"))\n",
    "\n",
    "genel_not = vize1 * 3/10 + vize2 * 3/10 + final * 4/10\n",
    "\n",
    "print(\"not:\",genel_not)\n",
    "\n",
    "if (genel_not >= 90):\n",
    "    print(\"AA\")\n",
    "elif (genel_not >= 85):\n",
    "    print(\"BA\")\n",
    "elif (genel_not >= 80):\n",
    "    print(\"BB\")\n",
    "elif (genel_not >= 75):\n",
    "    print(\"CB\")\n",
    "elif (genel_not >= 70):\n",
    "    print(\"CC\")\n",
    "elif (genel_not >= 65):\n",
    "    print(\"DC\")\n",
    "elif (genel_not >= 60):\n",
    "    print(\"DD\")\n",
    "elif (genel_not >= 55):\n",
    "    print(\"FD\")\n",
    "else:\n",
    "    print(\"FF\")"
   ]
  },
  {
   "cell_type": "code",
   "execution_count": 8,
   "id": "4431796f",
   "metadata": {},
   "outputs": [
    {
     "name": "stdout",
     "output_type": "stream",
     "text": [
      "Hangi şeklin tipini öğrenmek istiyorsunuz?Üçgen\n",
      "Kenar-1:888\n",
      "Kenar-2:4\n",
      "Kenar-3:888968974\n",
      "Üçgen belirtmiyor...\n"
     ]
    }
   ],
   "source": [
    "şekil =  input(\"Hangi şeklin tipini öğrenmek istiyorsunuz?\")\n",
    "\n",
    "if (şekil == \"Dörtgen\"):\n",
    "    print(\"Lütfen kenarları sırayla giriniz.\")\n",
    "    a = int(input(\"Kenar-1:\"))\n",
    "    b = int(input(\"Kenar-2:\"))\n",
    "    c = int(input(\"Kenar-3:\"))\n",
    "    d = int(input(\"Kenar-4:\"))\n",
    "    \n",
    "    if (a == b and a == c and a == d):\n",
    "        print(\"Kare\")\n",
    "    elif (a == c and b == d):\n",
    "        print(\"Dikdörtgen\")\n",
    "    else:\n",
    "        print(\"Dörtgen\")\n",
    "        \n",
    "    \n",
    "    \n",
    "elif (şekil == \"Üçgen\"):\n",
    "    a = int(input(\"Kenar-1:\"))\n",
    "    b = int(input(\"Kenar-2:\"))\n",
    "    c = int(input(\"Kenar-3:\"))\n",
    "    if ( abs(a+b) > c and abs(a+c) > b and abs(b+c) > a):\n",
    "        if (a == b and a == c ):\n",
    "            print(\"Eşkenar Üçgen...\")\n",
    "        elif ((a == b and a != c) or (a == c and a != b) or (b == c and b != a)):\n",
    "            print(\"İkizkenar Üçgen....\")\n",
    "        else:\n",
    "            print(\"Çeşitkenar Üçgen...\")\n",
    "    else:\n",
    "        print(\"Üçgen belirtmiyor...\")\n",
    "        \n",
    "else:\n",
    "    print(\"Geçersiz Şekil...\")"
   ]
  },
  {
   "cell_type": "code",
   "execution_count": 1,
   "id": "e4206f98",
   "metadata": {},
   "outputs": [
    {
     "name": "stdout",
     "output_type": "stream",
     "text": [
      "1268.2926829268295\n"
     ]
    }
   ],
   "source": [
    "print(1300/(1+0.025))"
   ]
  },
  {
   "cell_type": "code",
   "execution_count": 4,
   "id": "37c85122",
   "metadata": {},
   "outputs": [
    {
     "name": "stdout",
     "output_type": "stream",
     "text": [
      "1237.3587150505653\n"
     ]
    }
   ],
   "source": [
    "print(1300/(1+0.025)**2)"
   ]
  },
  {
   "cell_type": "code",
   "execution_count": 5,
   "id": "1ce8d745",
   "metadata": {},
   "outputs": [
    {
     "name": "stdout",
     "output_type": "stream",
     "text": [
      "1207.1792341956736\n"
     ]
    }
   ],
   "source": [
    "print(1300/(1+0.025)**3)"
   ]
  },
  {
   "cell_type": "code",
   "execution_count": null,
   "id": "9253c4a3",
   "metadata": {},
   "outputs": [],
   "source": [
    "sys_id = Kaan\n",
    "sys_şifre = 1234\n",
    "\n",
    "ad = input(\"Ad\")\n",
    "şifre = int(input(\"şifre\"))"
   ]
  },
  {
   "cell_type": "code",
   "execution_count": 12,
   "id": "c8898d1e",
   "metadata": {},
   "outputs": [],
   "source": [
    "def faktoriyel(sayı):\n",
    "    faktoriyel = 1\n",
    "    if(sayı == 0 or sayı == 1):\n",
    "        print(\"Faktöriyel:\",faktoriyel)\n",
    "    else:\n",
    "        while(sayı>=1):\n",
    "            faktoriyel *= sayı\n",
    "            sayı -= 1\n",
    "        print(\"Faktöriyel\",faktoriyel)"
   ]
  },
  {
   "cell_type": "code",
   "execution_count": 15,
   "id": "ad74d26b",
   "metadata": {},
   "outputs": [
    {
     "name": "stdout",
     "output_type": "stream",
     "text": [
      "Faktöriyel 120\n"
     ]
    }
   ],
   "source": [
    "faktoriyel(5)"
   ]
  },
  {
   "cell_type": "code",
   "execution_count": 22,
   "id": "91e68d7d",
   "metadata": {},
   "outputs": [],
   "source": [
    "def çarpma(a,b,c):\n",
    "    return(a*b*c)"
   ]
  },
  {
   "cell_type": "code",
   "execution_count": 23,
   "id": "e04afdf0",
   "metadata": {},
   "outputs": [
    {
     "data": {
      "text/plain": [
       "6"
      ]
     },
     "execution_count": 23,
     "metadata": {},
     "output_type": "execute_result"
    }
   ],
   "source": [
    "çarpma(1,2,3)"
   ]
  },
  {
   "cell_type": "code",
   "execution_count": 29,
   "id": "878c0e63",
   "metadata": {},
   "outputs": [],
   "source": [
    "def toplama(a):\n",
    "    return(a+5)"
   ]
  },
  {
   "cell_type": "code",
   "execution_count": 30,
   "id": "1032a0df",
   "metadata": {},
   "outputs": [],
   "source": [
    "def çıkarma(a):\n",
    "    return(a-4)"
   ]
  },
  {
   "cell_type": "code",
   "execution_count": 31,
   "id": "15bb24db",
   "metadata": {},
   "outputs": [],
   "source": [
    "def bölme(a):\n",
    "    return(a/2)"
   ]
  },
  {
   "cell_type": "code",
   "execution_count": 32,
   "id": "069e2e44",
   "metadata": {},
   "outputs": [],
   "source": [
    "def çarpma(a):\n",
    "    return(a*5)"
   ]
  },
  {
   "cell_type": "code",
   "execution_count": 36,
   "id": "39d494ad",
   "metadata": {},
   "outputs": [
    {
     "name": "stdout",
     "output_type": "stream",
     "text": [
      "5.5\n"
     ]
    }
   ],
   "source": [
    "print(bölme(toplama(çıkarma(çarpma(2)))))"
   ]
  },
  {
   "cell_type": "code",
   "execution_count": 41,
   "id": "a6ba2752",
   "metadata": {},
   "outputs": [],
   "source": [
    "def toplama(*a):\n",
    "    toplam = 0\n",
    "    for i in a:\n",
    "        toplam += i\n",
    "    print(toplam)\n",
    "    \n",
    "        "
   ]
  },
  {
   "cell_type": "code",
   "execution_count": 42,
   "id": "a7e1be3a",
   "metadata": {},
   "outputs": [
    {
     "name": "stdout",
     "output_type": "stream",
     "text": [
      "6\n"
     ]
    }
   ],
   "source": [
    "toplama(1,2,3)"
   ]
  },
  {
   "cell_type": "code",
   "execution_count": 46,
   "id": "f9672ff1",
   "metadata": {},
   "outputs": [],
   "source": [
    "def çarpma(*a):\n",
    "    çarpım = 1\n",
    "    for i in a:\n",
    "        çarpım *= i\n",
    "    print(çarpım)"
   ]
  },
  {
   "cell_type": "code",
   "execution_count": 47,
   "id": "8ded4ce9",
   "metadata": {},
   "outputs": [
    {
     "name": "stdout",
     "output_type": "stream",
     "text": [
      "125\n"
     ]
    }
   ],
   "source": [
    "çarpma(5,5,5)"
   ]
  },
  {
   "cell_type": "code",
   "execution_count": 2,
   "id": "4ee036e3",
   "metadata": {},
   "outputs": [
    {
     "name": "stdout",
     "output_type": "stream",
     "text": [
      "10\n"
     ]
    },
    {
     "ename": "NameError",
     "evalue": "name 'a' is not defined",
     "output_type": "error",
     "traceback": [
      "\u001b[1;31m---------------------------------------------------------------------------\u001b[0m",
      "\u001b[1;31mNameError\u001b[0m                                 Traceback (most recent call last)",
      "Cell \u001b[1;32mIn[2], line 5\u001b[0m\n\u001b[0;32m      3\u001b[0m     \u001b[38;5;28mprint\u001b[39m(a)\n\u001b[0;32m      4\u001b[0m fonksiyon()\n\u001b[1;32m----> 5\u001b[0m \u001b[38;5;28mprint\u001b[39m(\u001b[43ma\u001b[49m)\n",
      "\u001b[1;31mNameError\u001b[0m: name 'a' is not defined"
     ]
    }
   ],
   "source": [
    "def fonksiyon():\n",
    "    a = 10\n",
    "    print(a)\n",
    "fonksiyon()\n",
    "print(a)"
   ]
  },
  {
   "cell_type": "code",
   "execution_count": 3,
   "id": "564b942c",
   "metadata": {},
   "outputs": [
    {
     "name": "stdout",
     "output_type": "stream",
     "text": [
      "5\n"
     ]
    }
   ],
   "source": [
    "b = 5\n",
    "def fonksiyon():\n",
    "    print(b)\n",
    "fonksiyon()"
   ]
  },
  {
   "cell_type": "code",
   "execution_count": 4,
   "id": "0d5cff2f",
   "metadata": {},
   "outputs": [
    {
     "ename": "NameError",
     "evalue": "name 's' is not defined",
     "output_type": "error",
     "traceback": [
      "\u001b[1;31m---------------------------------------------------------------------------\u001b[0m",
      "\u001b[1;31mNameError\u001b[0m                                 Traceback (most recent call last)",
      "Cell \u001b[1;32mIn[4], line 3\u001b[0m\n\u001b[0;32m      1\u001b[0m \u001b[38;5;28;01mdef\u001b[39;00m \u001b[38;5;21mfonksiyon\u001b[39m():\n\u001b[0;32m      2\u001b[0m     \u001b[38;5;28mprint\u001b[39m(s)\n\u001b[1;32m----> 3\u001b[0m \u001b[43mfonksiyon\u001b[49m\u001b[43m(\u001b[49m\u001b[43m)\u001b[49m\n\u001b[0;32m      4\u001b[0m s \u001b[38;5;241m=\u001b[39m \u001b[38;5;124m\"\u001b[39m\u001b[38;5;124mPython\u001b[39m\u001b[38;5;124m\"\u001b[39m\n",
      "Cell \u001b[1;32mIn[4], line 2\u001b[0m, in \u001b[0;36mfonksiyon\u001b[1;34m()\u001b[0m\n\u001b[0;32m      1\u001b[0m \u001b[38;5;28;01mdef\u001b[39;00m \u001b[38;5;21mfonksiyon\u001b[39m():\n\u001b[1;32m----> 2\u001b[0m     \u001b[38;5;28mprint\u001b[39m(\u001b[43ms\u001b[49m)\n",
      "\u001b[1;31mNameError\u001b[0m: name 's' is not defined"
     ]
    }
   ],
   "source": [
    "def fonksiyon():\n",
    "    print(s)\n",
    "fonksiyon()\n",
    "s = \"Python\""
   ]
  },
  {
   "cell_type": "code",
   "execution_count": 5,
   "id": "e47916b6",
   "metadata": {},
   "outputs": [
    {
     "name": "stdout",
     "output_type": "stream",
     "text": [
      "2\n",
      "10\n"
     ]
    }
   ],
   "source": [
    "c = 10\n",
    "def fonksiyon():\n",
    "    c = 2\n",
    "    print(c)\n",
    "fonksiyon()\n",
    "print(c)"
   ]
  },
  {
   "cell_type": "code",
   "execution_count": 6,
   "id": "d46c99d0",
   "metadata": {},
   "outputs": [
    {
     "name": "stdout",
     "output_type": "stream",
     "text": [
      "3\n",
      "3\n"
     ]
    }
   ],
   "source": [
    "d = 5\n",
    "def fonksiyon():\n",
    "    global d\n",
    "    d = 3\n",
    "    print(d)\n",
    "fonksiyon()\n",
    "print(d)\n",
    "    "
   ]
  },
  {
   "cell_type": "code",
   "execution_count": 7,
   "id": "5599f6c6",
   "metadata": {},
   "outputs": [
    {
     "name": "stdout",
     "output_type": "stream",
     "text": [
      "4\n",
      "4\n"
     ]
    }
   ],
   "source": [
    "if True:\n",
    "    e = 4\n",
    "    print(e)\n",
    "print(e)"
   ]
  },
  {
   "cell_type": "code",
   "execution_count": 8,
   "id": "cb5ad4d2",
   "metadata": {},
   "outputs": [],
   "source": [
    "liste1 = [1,2,3,4,5]\n",
    "liste2 = [i*2 for i in liste1]"
   ]
  },
  {
   "cell_type": "code",
   "execution_count": 9,
   "id": "9b7d0c40",
   "metadata": {},
   "outputs": [
    {
     "data": {
      "text/plain": [
       "[2, 4, 6, 8, 10]"
      ]
     },
     "execution_count": 9,
     "metadata": {},
     "output_type": "execute_result"
    }
   ],
   "source": [
    "liste2"
   ]
  },
  {
   "cell_type": "code",
   "execution_count": 13,
   "id": "90bb3830",
   "metadata": {},
   "outputs": [
    {
     "name": "stdout",
     "output_type": "stream",
     "text": [
      "6\n"
     ]
    }
   ],
   "source": [
    "def multiply2(x):\n",
    "    return x * 2\n",
    "print(multiply2(3))"
   ]
  },
  {
   "cell_type": "code",
   "execution_count": 14,
   "id": "17c67e39",
   "metadata": {},
   "outputs": [],
   "source": [
    "multiply2 = lambda x : x * 2"
   ]
  },
  {
   "cell_type": "code",
   "execution_count": 15,
   "id": "6412b348",
   "metadata": {},
   "outputs": [
    {
     "name": "stdout",
     "output_type": "stream",
     "text": [
      "6\n"
     ]
    }
   ],
   "source": [
    "print(multiply2(3))"
   ]
  },
  {
   "cell_type": "code",
   "execution_count": 16,
   "id": "27513867",
   "metadata": {},
   "outputs": [
    {
     "name": "stdout",
     "output_type": "stream",
     "text": [
      "33\n"
     ]
    }
   ],
   "source": [
    "def summation(x,y,z):\n",
    "    return x+y+z\n",
    "print(summation(10,11,12))"
   ]
  },
  {
   "cell_type": "code",
   "execution_count": 17,
   "id": "97b6e1ba",
   "metadata": {},
   "outputs": [],
   "source": [
    "summation = lambda x,y,z : x+y+z"
   ]
  },
  {
   "cell_type": "code",
   "execution_count": 19,
   "id": "a6b30331",
   "metadata": {},
   "outputs": [
    {
     "name": "stdout",
     "output_type": "stream",
     "text": [
      "33\n"
     ]
    }
   ],
   "source": [
    "print(summation(10,11,12))"
   ]
  },
  {
   "cell_type": "code",
   "execution_count": 20,
   "id": "ff231d8a",
   "metadata": {},
   "outputs": [
    {
     "name": "stdout",
     "output_type": "stream",
     "text": [
      "amalmargorP nohtyP\n"
     ]
    }
   ],
   "source": [
    "def turnback(s):\n",
    "    return s[::-1]\n",
    "print(turnback(\"Python Programlama\"))"
   ]
  },
  {
   "cell_type": "code",
   "execution_count": 23,
   "id": "045bdfa2",
   "metadata": {},
   "outputs": [
    {
     "name": "stdout",
     "output_type": "stream",
     "text": [
      "amalmargorP nohtyP\n"
     ]
    }
   ],
   "source": [
    "turnback = lambda s : s[::-1]\n",
    "print(turnback(\"Python Programlama\"))"
   ]
  },
  {
   "cell_type": "code",
   "execution_count": 24,
   "id": "21de53b2",
   "metadata": {},
   "outputs": [],
   "source": [
    "def oddeven(number):\n",
    "    return number % 2 == 0"
   ]
  },
  {
   "cell_type": "code",
   "execution_count": 25,
   "id": "85c1d86b",
   "metadata": {},
   "outputs": [
    {
     "name": "stdout",
     "output_type": "stream",
     "text": [
      "False\n"
     ]
    }
   ],
   "source": [
    "print(oddeven(13))"
   ]
  },
  {
   "cell_type": "code",
   "execution_count": 26,
   "id": "3c1077d6",
   "metadata": {},
   "outputs": [
    {
     "name": "stdout",
     "output_type": "stream",
     "text": [
      "True\n"
     ]
    }
   ],
   "source": [
    "print(oddeven(14))"
   ]
  },
  {
   "cell_type": "code",
   "execution_count": 27,
   "id": "d0967cc1",
   "metadata": {},
   "outputs": [],
   "source": [
    "oddeven = lambda number : number % 2 == 0"
   ]
  },
  {
   "cell_type": "code",
   "execution_count": 28,
   "id": "4b8f0e92",
   "metadata": {},
   "outputs": [
    {
     "name": "stdout",
     "output_type": "stream",
     "text": [
      "True\n"
     ]
    }
   ],
   "source": [
    "print(oddeven(14))"
   ]
  },
  {
   "cell_type": "code",
   "execution_count": 29,
   "id": "cd00dfed",
   "metadata": {},
   "outputs": [
    {
     "name": "stdout",
     "output_type": "stream",
     "text": [
      "False\n"
     ]
    }
   ],
   "source": [
    "print(oddeven(13))"
   ]
  },
  {
   "cell_type": "code",
   "execution_count": 4,
   "id": "c24cc9e5",
   "metadata": {},
   "outputs": [],
   "source": [
    "class Araba():\n",
    "    model = \"BMW M5\"\n",
    "    renk = \"Siyah\"\n",
    "    beygir_gücü = 300\n",
    "    silindir = 8"
   ]
  },
  {
   "cell_type": "code",
   "execution_count": 5,
   "id": "e5d8e339",
   "metadata": {},
   "outputs": [],
   "source": [
    "araba1=Araba"
   ]
  },
  {
   "cell_type": "code",
   "execution_count": 6,
   "id": "96b0f2cb",
   "metadata": {},
   "outputs": [
    {
     "data": {
      "text/plain": [
       "__main__.Araba"
      ]
     },
     "execution_count": 6,
     "metadata": {},
     "output_type": "execute_result"
    }
   ],
   "source": [
    "araba1"
   ]
  },
  {
   "cell_type": "code",
   "execution_count": 7,
   "id": "ddec1e97",
   "metadata": {},
   "outputs": [
    {
     "data": {
      "text/plain": [
       "300"
      ]
     },
     "execution_count": 7,
     "metadata": {},
     "output_type": "execute_result"
    }
   ],
   "source": [
    "araba1.beygir_gücü"
   ]
  },
  {
   "cell_type": "code",
   "execution_count": 8,
   "id": "2be656cf",
   "metadata": {},
   "outputs": [],
   "source": [
    "araba2=Araba"
   ]
  },
  {
   "cell_type": "code",
   "execution_count": 9,
   "id": "f7c7a179",
   "metadata": {},
   "outputs": [
    {
     "data": {
      "text/plain": [
       "__main__.Araba"
      ]
     },
     "execution_count": 9,
     "metadata": {},
     "output_type": "execute_result"
    }
   ],
   "source": [
    "araba2"
   ]
  },
  {
   "cell_type": "code",
   "execution_count": 10,
   "id": "5ba1d1c9",
   "metadata": {},
   "outputs": [],
   "source": [
    "class Araba():\n",
    "    def __init__(self,model,renk,beygir_gücü,silindir):\n",
    "        print(\"init fonksiyonu çağırıldı\")\n",
    "        self.model = model\n",
    "        self.renk = renk\n",
    "        self.beygir_gücü = beygir_gücü\n",
    "        self.silindir = silindir\n",
    "        "
   ]
  },
  {
   "cell_type": "code",
   "execution_count": 14,
   "id": "7b8d644a",
   "metadata": {},
   "outputs": [
    {
     "name": "stdout",
     "output_type": "stream",
     "text": [
      "init fonksiyonu çağırıldı\n"
     ]
    }
   ],
   "source": [
    "araba1 = Araba(\"renault megane\",\"gümüş\",110,4)"
   ]
  },
  {
   "cell_type": "code",
   "execution_count": 15,
   "id": "3181c92d",
   "metadata": {},
   "outputs": [
    {
     "data": {
      "text/plain": [
       "'renault megane'"
      ]
     },
     "execution_count": 15,
     "metadata": {},
     "output_type": "execute_result"
    }
   ],
   "source": [
    "araba1.model"
   ]
  },
  {
   "cell_type": "code",
   "execution_count": 16,
   "id": "feef8811",
   "metadata": {},
   "outputs": [
    {
     "data": {
      "text/plain": [
       "'gümüş'"
      ]
     },
     "execution_count": 16,
     "metadata": {},
     "output_type": "execute_result"
    }
   ],
   "source": [
    "araba1.renk"
   ]
  },
  {
   "cell_type": "code",
   "execution_count": 17,
   "id": "399a52cc",
   "metadata": {},
   "outputs": [
    {
     "data": {
      "text/plain": [
       "4"
      ]
     },
     "execution_count": 17,
     "metadata": {},
     "output_type": "execute_result"
    }
   ],
   "source": [
    "araba1.silindir"
   ]
  },
  {
   "cell_type": "code",
   "execution_count": 18,
   "id": "4c32204a",
   "metadata": {},
   "outputs": [],
   "source": [
    "class Uçak():\n",
    "    model = \"Boeing\"\n",
    "    uzunluk = 240\n",
    "    renk = \"siyah\""
   ]
  },
  {
   "cell_type": "code",
   "execution_count": 19,
   "id": "8b639414",
   "metadata": {},
   "outputs": [],
   "source": [
    "uçak1 = Uçak"
   ]
  },
  {
   "cell_type": "code",
   "execution_count": 20,
   "id": "26490b05",
   "metadata": {},
   "outputs": [
    {
     "data": {
      "text/plain": [
       "'Boeing'"
      ]
     },
     "execution_count": 20,
     "metadata": {},
     "output_type": "execute_result"
    }
   ],
   "source": [
    "uçak1.model"
   ]
  },
  {
   "cell_type": "code",
   "execution_count": 21,
   "id": "96378738",
   "metadata": {},
   "outputs": [],
   "source": [
    "class ev():\n",
    "    def __init__(self,oda_sayısı,metrekare,kat,daire):\n",
    "        print(\"init çağırıldı\")\n",
    "        self.oda_sayısı = oda_sayısı\n",
    "        self.metrekare = metrekare\n",
    "        self.kat = kat\n",
    "        self.daire = daire"
   ]
  },
  {
   "cell_type": "code",
   "execution_count": 29,
   "id": "86024df6",
   "metadata": {},
   "outputs": [
    {
     "name": "stdout",
     "output_type": "stream",
     "text": [
      "init çağırıldı\n"
     ]
    }
   ],
   "source": [
    "ev1 = ev(\"4 Oda 1 Salon\",300,8,16)"
   ]
  },
  {
   "cell_type": "code",
   "execution_count": 30,
   "id": "d341d276",
   "metadata": {},
   "outputs": [
    {
     "data": {
      "text/plain": [
       "'4 Oda 1 Salon'"
      ]
     },
     "execution_count": 30,
     "metadata": {},
     "output_type": "execute_result"
    }
   ],
   "source": [
    "ev1.oda_sayısı"
   ]
  },
  {
   "cell_type": "code",
   "execution_count": 31,
   "id": "d5c5447e",
   "metadata": {},
   "outputs": [
    {
     "data": {
      "text/plain": [
       "16"
      ]
     },
     "execution_count": 31,
     "metadata": {},
     "output_type": "execute_result"
    }
   ],
   "source": [
    "ev1.daire"
   ]
  },
  {
   "cell_type": "code",
   "execution_count": 32,
   "id": "8c6a2461",
   "metadata": {},
   "outputs": [
    {
     "data": {
      "text/plain": [
       "8"
      ]
     },
     "execution_count": 32,
     "metadata": {},
     "output_type": "execute_result"
    }
   ],
   "source": [
    "ev1.kat"
   ]
  },
  {
   "cell_type": "code",
   "execution_count": 42,
   "id": "bd4dbc3c",
   "metadata": {},
   "outputs": [],
   "source": [
    "class Yazılımcı():\n",
    "    def __init__(self,isim,soyisim,yaş,maaş,diller):\n",
    "        self.isim = isim\n",
    "        self.soyisim = soyisim\n",
    "        self.yaş = yaş\n",
    "        self.maaş = maaş\n",
    "        self.diller = diller\n",
    "    def bilgilerigöster(self):\n",
    "        print(\"\"\"\n",
    "        Yazılımcı Objesinin Özellikleri\n",
    "        \n",
    "        isim : {}\n",
    "        soyisim : {}\n",
    "        yaş : {}\n",
    "        maaş : {}\n",
    "        diller : {}\n",
    "        \"\"\".format(self.isim,self.soyisim,self.yaş,self.maaş,self.diller))\n",
    "    def zam_yap(self,zam_miktarı):\n",
    "        print(\"Zam Yapılıyor\")\n",
    "        self.maaş += zam_miktarı\n",
    "    def dil_ekle(self,yeni_dil):\n",
    "        print(\"Dil Ekleniyor\")\n",
    "        self.diller.append(yeni_dil)\n",
    "    def yaş_ekle(self,yaş_miktarı):\n",
    "        print(\"yaş ekleniyor\")\n",
    "        self.yaş += yaş_miktarı"
   ]
  },
  {
   "cell_type": "code",
   "execution_count": 43,
   "id": "92940447",
   "metadata": {},
   "outputs": [],
   "source": [
    "yazılımcı = Yazılımcı(\"Kaan\",\"Selvitopu\",24,15000,[\"Python\",\"Java\"])"
   ]
  },
  {
   "cell_type": "code",
   "execution_count": 44,
   "id": "205ed65e",
   "metadata": {},
   "outputs": [
    {
     "data": {
      "text/plain": [
       "<__main__.Yazılımcı at 0x248126455a0>"
      ]
     },
     "execution_count": 44,
     "metadata": {},
     "output_type": "execute_result"
    }
   ],
   "source": [
    "yazılımcı"
   ]
  },
  {
   "cell_type": "code",
   "execution_count": 45,
   "id": "d7c8311c",
   "metadata": {},
   "outputs": [
    {
     "name": "stdout",
     "output_type": "stream",
     "text": [
      "\n",
      "        Yazılımcı Objesinin Özellikleri\n",
      "        \n",
      "        isim : Kaan\n",
      "        soyisim : Selvitopu\n",
      "        yaş : 24\n",
      "        maaş : 15000\n",
      "        diller : ['Python', 'Java']\n",
      "        \n"
     ]
    }
   ],
   "source": [
    "yazılımcı.bilgilerigöster()"
   ]
  },
  {
   "cell_type": "code",
   "execution_count": 46,
   "id": "8d506aa8",
   "metadata": {},
   "outputs": [
    {
     "name": "stdout",
     "output_type": "stream",
     "text": [
      "Zam Yapılıyor\n"
     ]
    }
   ],
   "source": [
    "yazılımcı.zam_yap(5000)"
   ]
  },
  {
   "cell_type": "code",
   "execution_count": 47,
   "id": "1fc7e851",
   "metadata": {},
   "outputs": [
    {
     "name": "stdout",
     "output_type": "stream",
     "text": [
      "\n",
      "        Yazılımcı Objesinin Özellikleri\n",
      "        \n",
      "        isim : Kaan\n",
      "        soyisim : Selvitopu\n",
      "        yaş : 24\n",
      "        maaş : 20000\n",
      "        diller : ['Python', 'Java']\n",
      "        \n"
     ]
    }
   ],
   "source": [
    "yazılımcı.bilgilerigöster()"
   ]
  },
  {
   "cell_type": "code",
   "execution_count": 48,
   "id": "e8a53677",
   "metadata": {},
   "outputs": [
    {
     "name": "stdout",
     "output_type": "stream",
     "text": [
      "yaş ekleniyor\n"
     ]
    }
   ],
   "source": [
    "yazılımcı.yaş_ekle(2)"
   ]
  },
  {
   "cell_type": "code",
   "execution_count": 50,
   "id": "404aa149",
   "metadata": {},
   "outputs": [
    {
     "name": "stdout",
     "output_type": "stream",
     "text": [
      "\n",
      "        Yazılımcı Objesinin Özellikleri\n",
      "        \n",
      "        isim : Kaan\n",
      "        soyisim : Selvitopu\n",
      "        yaş : 26\n",
      "        maaş : 20000\n",
      "        diller : ['Python', 'Java']\n",
      "        \n"
     ]
    }
   ],
   "source": [
    "yazılımcı.bilgilerigöster()"
   ]
  },
  {
   "cell_type": "code",
   "execution_count": 52,
   "id": "d804dad5",
   "metadata": {},
   "outputs": [
    {
     "name": "stdout",
     "output_type": "stream",
     "text": [
      "Dil Ekleniyor\n"
     ]
    }
   ],
   "source": [
    "yazılımcı.dil_ekle(\"C\")"
   ]
  },
  {
   "cell_type": "code",
   "execution_count": 54,
   "id": "c0b2f793",
   "metadata": {},
   "outputs": [
    {
     "name": "stdout",
     "output_type": "stream",
     "text": [
      "\n",
      "        Yazılımcı Objesinin Özellikleri\n",
      "        \n",
      "        isim : Kaan\n",
      "        soyisim : Selvitopu\n",
      "        yaş : 26\n",
      "        maaş : 20000\n",
      "        diller : ['Python', 'Java', 'C']\n",
      "        \n"
     ]
    }
   ],
   "source": [
    "yazılımcı.bilgilerigöster()"
   ]
  },
  {
   "cell_type": "code",
   "execution_count": 55,
   "id": "87425ab9",
   "metadata": {},
   "outputs": [],
   "source": [
    "class Çalışan():\n",
    "    def __init__(self,isim,soyisim,maaş,departman):\n",
    "        print(\"Çalışan Sınıfı İnit Fonksiyonu\")\n",
    "        \n",
    "        self.isim = isim\n",
    "        self.soyisim = soyisim\n",
    "        self.maaş = maaş\n",
    "        self.departman = departman\n",
    "    def bilgilerigöster(self):\n",
    "        print(\"Çalışan sınıfının bilgileri...\")\n",
    "        \n",
    "        print(\"isim:{}\\nSoyisim:{}\\nmaaş:{}\\ndepartman:{} \".format(self.isim,self.soyisim,self.maaş,self.departman))\n",
    "    def departman_değiştir(self,yeni_departman):\n",
    "        self.departman = yeni_departman\n",
    "        \n",
    "        \n",
    "    "
   ]
  },
  {
   "cell_type": "code",
   "execution_count": 56,
   "id": "9eb55897",
   "metadata": {},
   "outputs": [],
   "source": [
    "class Yönetici(Çalışan):\n",
    "    pass"
   ]
  },
  {
   "cell_type": "code",
   "execution_count": 57,
   "id": "81d10d94",
   "metadata": {},
   "outputs": [
    {
     "name": "stdout",
     "output_type": "stream",
     "text": [
      "Çalışan Sınıfı İnit Fonksiyonu\n"
     ]
    }
   ],
   "source": [
    "yönetici = Yönetici(\"Kaan\",\"Selvitopu\",25000,\"CEO\")"
   ]
  },
  {
   "cell_type": "code",
   "execution_count": 59,
   "id": "e03c5320",
   "metadata": {},
   "outputs": [
    {
     "name": "stdout",
     "output_type": "stream",
     "text": [
      "Çalışan sınıfının bilgileri...\n",
      "isim:Kaan\n",
      "Soyisim:Selvitopu\n",
      "maaş:25000\n",
      "departman:CEO \n"
     ]
    }
   ],
   "source": [
    "yönetici.bilgilerigöster()"
   ]
  },
  {
   "cell_type": "code",
   "execution_count": 60,
   "id": "fc955f11",
   "metadata": {},
   "outputs": [],
   "source": [
    "yönetici.departman_değiştir(\"Müdür\")"
   ]
  },
  {
   "cell_type": "code",
   "execution_count": 61,
   "id": "d2f1a70e",
   "metadata": {},
   "outputs": [
    {
     "name": "stdout",
     "output_type": "stream",
     "text": [
      "Çalışan sınıfının bilgileri...\n",
      "isim:Kaan\n",
      "Soyisim:Selvitopu\n",
      "maaş:25000\n",
      "departman:Müdür \n"
     ]
    }
   ],
   "source": [
    "yönetici.bilgilerigöster()"
   ]
  },
  {
   "cell_type": "code",
   "execution_count": 62,
   "id": "76261c46",
   "metadata": {},
   "outputs": [],
   "source": [
    "class Yönetici(Çalışan):\n",
    "    def zam_yap(self,zam_miktarı):\n",
    "        self.maaş += zam_miktarı"
   ]
  },
  {
   "cell_type": "code",
   "execution_count": 66,
   "id": "0f3da35f",
   "metadata": {},
   "outputs": [
    {
     "name": "stdout",
     "output_type": "stream",
     "text": [
      "Çalışan Sınıfı İnit Fonksiyonu\n"
     ]
    }
   ],
   "source": [
    "yönetici = Yönetici(\"Serhat\",\"Say\",25000,\"Pazarlama\")"
   ]
  },
  {
   "cell_type": "code",
   "execution_count": 67,
   "id": "7b4e84d6",
   "metadata": {},
   "outputs": [],
   "source": [
    "yönetici.zam_yap(500)"
   ]
  },
  {
   "cell_type": "code",
   "execution_count": 68,
   "id": "69180dbb",
   "metadata": {},
   "outputs": [
    {
     "name": "stdout",
     "output_type": "stream",
     "text": [
      "Çalışan sınıfının bilgileri...\n",
      "isim:Serhat\n",
      "Soyisim:Say\n",
      "maaş:25500\n",
      "departman:Pazarlama \n"
     ]
    }
   ],
   "source": [
    "yönetici.bilgilerigöster()"
   ]
  },
  {
   "cell_type": "code",
   "execution_count": 69,
   "id": "ed74195a",
   "metadata": {},
   "outputs": [],
   "source": [
    "class Çalışan():\n",
    "    def __init__(self,isim,soyisim,maaş,departman):\n",
    "        print(\"Çalışan Sınıfı İnit Fonksiyonu\")\n",
    "        \n",
    "        self.isim = isim\n",
    "        self.soyisim = soyisim\n",
    "        self.maaş = maaş\n",
    "        self.departman = departman\n",
    "    def bilgilerigöster(self):\n",
    "        print(\"Çalışan sınıfının bilgileri...\")\n",
    "        \n",
    "        print(\"isim:{}\\nSoyisim:{}\\nmaaş:{}\\ndepartman:{} \".format(self.isim,self.soyisim,self.maaş,self.departman))\n",
    "    def departman_değiştir(self,yeni_departman):\n",
    "        self.departman = yeni_departman\n",
    "        \n",
    "\n",
    "        "
   ]
  },
  {
   "cell_type": "code",
   "execution_count": 78,
   "id": "8a3ef4b4",
   "metadata": {},
   "outputs": [],
   "source": [
    "class Yönetici(Çalışan):\n",
    "    def __init__(self,isim,soyisim,maaş,departman,kişi_sayısı):\n",
    "        print(\"Yönetici Sınıfı İnit Fonksiyonu\")\n",
    "        \n",
    "        self.isim = isim\n",
    "        self.soyisim = soyisim\n",
    "        self.maaş = maaş\n",
    "        self.departman = departman\n",
    "        self.kişi_sayısı = kişi_sayısı\n",
    "    def bilgilerigöster(self):\n",
    "        print(\"Yönetici sınıfının bilgileri...\")\n",
    "        print(\"isim:{}\\nSoyisim:{}\\nmaaş:{}\\ndepartman:{}\\nkişi_sayısı : {} \".format(self.isim,self.soyisim,self.maaş,self.departman,self.kişi_sayısı))\n",
    "    def zam_yap(self,zam_miktarı):\n",
    "        self.maaş += zam_miktarı"
   ]
  },
  {
   "cell_type": "code",
   "execution_count": 79,
   "id": "10c59594",
   "metadata": {},
   "outputs": [
    {
     "name": "stdout",
     "output_type": "stream",
     "text": [
      "Yönetici Sınıfı İnit Fonksiyonu\n"
     ]
    }
   ],
   "source": [
    "yönetici = Yönetici(\"Kaan\",\"Selvitopu\",2500,\"Pazarlama\",21)"
   ]
  },
  {
   "cell_type": "code",
   "execution_count": 80,
   "id": "3867a711",
   "metadata": {},
   "outputs": [
    {
     "name": "stdout",
     "output_type": "stream",
     "text": [
      "Yönetici sınıfının bilgileri...\n",
      "isim:Kaan\n",
      "Soyisim:Selvitopu\n",
      "maaş:2500\n",
      "departman:Pazarlama\n",
      "kişi_sayısı : 21 \n"
     ]
    }
   ],
   "source": [
    "yönetici.bilgilerigöster()"
   ]
  },
  {
   "cell_type": "code",
   "execution_count": 1,
   "id": "6467a610",
   "metadata": {},
   "outputs": [],
   "source": [
    "class Çalışan():\n",
    "    def __init__(self,isim,soyisim,maaş,departman):\n",
    "        print(\"Çalışan Sınıfı İnit Fonksiyonu\")\n",
    "        \n",
    "        self.isim = isim\n",
    "        self.soyisim = soyisim\n",
    "        self.maaş = maaş\n",
    "        self.departman = departman\n",
    "    def bilgilerigöster(self):\n",
    "        print(\"Çalışan sınıfının bilgileri...\")\n",
    "        \n",
    "        print(\"isim:{}\\nSoyisim:{}\\nmaaş:{}\\ndepartman:{} \".format(self.isim,self.soyisim,self.maaş,self.departman))\n",
    "    def departman_değiştir(self,yeni_departman):\n",
    "        self.departman = yeni_departman\n",
    "        "
   ]
  },
  {
   "cell_type": "code",
   "execution_count": 10,
   "id": "c6d19d14",
   "metadata": {},
   "outputs": [],
   "source": [
    "class Yönetici(Çalışan):\n",
    "    def __init__(self,isim,soyisim,maaş,departman,kişi_sayısı):\n",
    "        super().__init__(isim,soyisim,maaş,departman)\n",
    "        \n",
    "        print(\"Yönetici Sınıfı İnit Fonksiyonu\")\n",
    "        \n",
    "        \n",
    "        self.kişi_sayısı = kişi_sayısı\n",
    "        \n",
    "       \n",
    "    def bilgilerigöster(self):\n",
    "        print(\"Yönetici sınıfının bilgileri...\")\n",
    "        print(\"isim:{}\\nSoyisim:{}\\nmaaş:{}\\ndepartman:{}\\nkişi_sayısı : {} \".format(self.isim,self.soyisim,self.maaş,self.departman,self.kişi_sayısı))\n",
    "    def zam_yap(self,zam_miktarı):\n",
    "        self.maaş += zam_miktarı"
   ]
  },
  {
   "cell_type": "code",
   "execution_count": 12,
   "id": "b33f3f9e",
   "metadata": {},
   "outputs": [
    {
     "name": "stdout",
     "output_type": "stream",
     "text": [
      "Çalışan Sınıfı İnit Fonksiyonu\n",
      "Yönetici Sınıfı İnit Fonksiyonu\n"
     ]
    }
   ],
   "source": [
    "yönetici = Yönetici(\"Kaan\",\"Selvitopu\",5000,\"Bilişim\",5)"
   ]
  },
  {
   "cell_type": "code",
   "execution_count": 13,
   "id": "a239b954",
   "metadata": {},
   "outputs": [
    {
     "data": {
      "text/plain": [
       "<bound method Yönetici.bilgilerigöster of <__main__.Yönetici object at 0x0000013FBDBD52D0>>"
      ]
     },
     "execution_count": 13,
     "metadata": {},
     "output_type": "execute_result"
    }
   ],
   "source": [
    "yönetici.bilgilerigöster"
   ]
  },
  {
   "cell_type": "code",
   "execution_count": 14,
   "id": "3b5e9517",
   "metadata": {},
   "outputs": [
    {
     "data": {
      "text/plain": [
       "<function __main__.Yönetici.bilgilerigöster(self)>"
      ]
     },
     "execution_count": 14,
     "metadata": {},
     "output_type": "execute_result"
    }
   ],
   "source": [
    "Yönetici.bilgilerigöster"
   ]
  },
  {
   "cell_type": "code",
   "execution_count": 15,
   "id": "90109129",
   "metadata": {},
   "outputs": [
    {
     "data": {
      "text/plain": [
       "<bound method Yönetici.bilgilerigöster of <__main__.Yönetici object at 0x0000013FBDBD52D0>>"
      ]
     },
     "execution_count": 15,
     "metadata": {},
     "output_type": "execute_result"
    }
   ],
   "source": [
    "yönetici.bilgilerigöster"
   ]
  },
  {
   "cell_type": "code",
   "execution_count": 16,
   "id": "f63d175f",
   "metadata": {},
   "outputs": [
    {
     "name": "stdout",
     "output_type": "stream",
     "text": [
      "Yönetici sınıfının bilgileri...\n",
      "isim:Kaan\n",
      "Soyisim:Selvitopu\n",
      "maaş:5000\n",
      "departman:Bilişim\n",
      "kişi_sayısı : 5 \n"
     ]
    }
   ],
   "source": [
    "yönetici.bilgilerigöster()"
   ]
  },
  {
   "cell_type": "code",
   "execution_count": 26,
   "id": "9385cc5a",
   "metadata": {},
   "outputs": [],
   "source": [
    "class Futbolcu():\n",
    "    def __init__(self, isim, takım, maaş, kontrat_yılı):\n",
    "        print(\"Futbolcu Fonksiyonu\")\n",
    "        self.isim = isim\n",
    "        self.takım = takım\n",
    "        self.maaş = maaş\n",
    "        self.kontrat_yılı = kontrat_yılı\n",
    "        \n",
    "    def bilgilerigöster(self):\n",
    "        print(\"Futbolcu Sınıfının bilgileri\")\n",
    "        print(\"isim: {}\\ntakım: {}\\nmaaş: {}\\nkontrat_yılı: {}\".format(self.isim, self.takım, self.maaş, self.kontrat_yılı))\n",
    "\n",
    "class Transfer(Futbolcu):\n",
    "    def __init__(self, isim, takım, maaş, kontrat_yılı):\n",
    "        super().__init__(isim, takım, maaş, kontrat_yılı)\n",
    "        print(\"Transfer Olduğu takım\")\n",
    "        \n",
    "    def bilgilerigöster(self):\n",
    "        print(\"Transfer Olduğu takım bilgileri\")\n",
    "        print(\"isim: {}\\ntakım: {}\\nmaaş: {}\\nkontrat_yılı: {}\".format(self.isim, self.takım, self.maaş, self.kontrat_yılı))"
   ]
  },
  {
   "cell_type": "code",
   "execution_count": 27,
   "id": "758d4a45",
   "metadata": {},
   "outputs": [
    {
     "name": "stdout",
     "output_type": "stream",
     "text": [
      "Futbolcu Fonksiyonu\n",
      "Transfer Olduğu takım\n"
     ]
    }
   ],
   "source": [
    "transfer = Transfer(\"kaan\",\"zenit\",123,2)"
   ]
  },
  {
   "cell_type": "code",
   "execution_count": 28,
   "id": "2861bdda",
   "metadata": {},
   "outputs": [
    {
     "name": "stdout",
     "output_type": "stream",
     "text": [
      "Futbolcu Fonksiyonu\n"
     ]
    }
   ],
   "source": [
    "futbolcu = Futbolcu(\"kaan\",\"hamburg\",1234,5)"
   ]
  },
  {
   "cell_type": "code",
   "execution_count": 29,
   "id": "d811fd4e",
   "metadata": {},
   "outputs": [
    {
     "name": "stdout",
     "output_type": "stream",
     "text": [
      "Futbolcu Sınıfının bilgileri\n",
      "isim: kaan\n",
      "takım: hamburg\n",
      "maaş: 1234\n",
      "kontrat_yılı: 5\n"
     ]
    }
   ],
   "source": [
    "futbolcu.bilgilerigöster()"
   ]
  },
  {
   "cell_type": "code",
   "execution_count": 30,
   "id": "52259e86",
   "metadata": {},
   "outputs": [
    {
     "name": "stdout",
     "output_type": "stream",
     "text": [
      "Transfer Olduğu takım bilgileri\n",
      "isim: kaan\n",
      "takım: zenit\n",
      "maaş: 123\n",
      "kontrat_yılı: 2\n"
     ]
    }
   ],
   "source": [
    "transfer.bilgilerigöster()"
   ]
  },
  {
   "cell_type": "code",
   "execution_count": null,
   "id": "541b06fc",
   "metadata": {},
   "outputs": [],
   "source": []
  }
 ],
 "metadata": {
  "kernelspec": {
   "display_name": "Python 3 (ipykernel)",
   "language": "python",
   "name": "python3"
  },
  "language_info": {
   "codemirror_mode": {
    "name": "ipython",
    "version": 3
   },
   "file_extension": ".py",
   "mimetype": "text/x-python",
   "name": "python",
   "nbconvert_exporter": "python",
   "pygments_lexer": "ipython3",
   "version": "3.10.9"
  }
 },
 "nbformat": 4,
 "nbformat_minor": 5
}
