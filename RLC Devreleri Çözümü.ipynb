{
 "cells": [
  {
   "cell_type": "code",
   "execution_count": 4,
   "id": "972dfa04",
   "metadata": {},
   "outputs": [
    {
     "name": "stdout",
     "output_type": "stream",
     "text": [
      "\n",
      "\n",
      "Bu program seri bağlı R-L-C devresinin empedansını hesaplar\n",
      "\n",
      "\n",
      "\n",
      "\n",
      "\n",
      "Lütfen devre frekansını giriniz50\n",
      "Lütfen kondansatör değerini fahrad cinsinden giriniz30\n",
      "Lütfen bobin değerini henry cinsinden giriniz40\n",
      "Lütfen direnç değerini ohm cinsinden giriniz50\n",
      "Devrenin empedansı = 12566.469979702457\n"
     ]
    }
   ],
   "source": [
    "import math\n",
    "\n",
    "\n",
    "print(\"\"\"\n",
    "\n",
    "Bu program seri bağlı R-L-C devresinin empedansını hesaplar\n",
    "\n",
    "\n",
    "\n",
    "\n",
    "\"\"\")\n",
    "\n",
    "\n",
    "\n",
    "# let's get parameters from users\n",
    "\n",
    "\n",
    "f = float(input(\"Lütfen devre frekansını giriniz\"))\n",
    "c = float(input(\"Lütfen kondansatör değerini fahrad cinsinden giriniz\"))\n",
    "l = float(input(\"Lütfen bobin değerini henry cinsinden giriniz\"))\n",
    "r = float(input(\"Lütfen direnç değerini ohm cinsinden giriniz\"))\n",
    "\n",
    "PI = math.pi\n",
    "\n",
    "# calculate capacitance and inductance\n",
    "\n",
    "l = 2* PI * f* l\n",
    "c = 1/(2*PI*f*c)\n",
    "\n",
    "r = complex(r,0)\n",
    "l = complex(0,-l)\n",
    "c = complex(0,c)\n",
    "\n",
    "\n",
    "impedance = abs(r+c+l)\n",
    "\n",
    "print(\"Devrenin empedansı =\", impedance)\n",
    "\n",
    "#complex type\n"
   ]
  },
  {
   "cell_type": "code",
   "execution_count": 5,
   "id": "5adde367",
   "metadata": {},
   "outputs": [
    {
     "name": "stdout",
     "output_type": "stream",
     "text": [
      "\n",
      "\n",
      "Bu program seri bağlı R-L-C devresinin empedansını hesaplar\n",
      "\n",
      "\n",
      "\n",
      "\n",
      "\n",
      "Lütfen devre frekansını giriniz50\n",
      "Lütfen kondansatör değerini fahrad cinsinden giriniz30\n",
      "Lütfen bobin değerini henry cinsinden giriniz40\n",
      "Lütfen direnç değerini ohm cinsinden giriniz50\n",
      "Devrenin empedansı = 12566.469979702457\n"
     ]
    }
   ],
   "source": [
    "import math\n",
    "\n",
    "\n",
    "print(\"\"\"\n",
    "\n",
    "Bu program seri bağlı R-L-C devresinin empedansını hesaplar\n",
    "\n",
    "\n",
    "\n",
    "\n",
    "\"\"\")\n",
    "\n",
    "\n",
    "\n",
    "# let's get parameters from users\n",
    "\n",
    "\n",
    "f = float(input(\"Lütfen devre frekansını giriniz\"))\n",
    "c = float(input(\"Lütfen kondansatör değerini fahrad cinsinden giriniz\"))\n",
    "l = float(input(\"Lütfen bobin değerini henry cinsinden giriniz\"))\n",
    "r = float(input(\"Lütfen direnç değerini ohm cinsinden giriniz\"))\n",
    "\n",
    "PI = math.pi\n",
    "\n",
    "# calculate capacitance and inductance\n",
    "\n",
    "l = 2* PI * f* l\n",
    "\n",
    "c = 1/(2*PI*f*c)\n",
    "\n",
    "impedance = ((c-l) ** 2 + r ** 2) ** 0.5\n",
    "\n",
    "print(\"Devrenin empedansı =\", impedance)\n",
    "\n",
    "#vector type"
   ]
  },
  {
   "cell_type": "code",
   "execution_count": null,
   "id": "0e2b44b1",
   "metadata": {},
   "outputs": [],
   "source": []
  }
 ],
 "metadata": {
  "kernelspec": {
   "display_name": "Python 3 (ipykernel)",
   "language": "python",
   "name": "python3"
  },
  "language_info": {
   "codemirror_mode": {
    "name": "ipython",
    "version": 3
   },
   "file_extension": ".py",
   "mimetype": "text/x-python",
   "name": "python",
   "nbconvert_exporter": "python",
   "pygments_lexer": "ipython3",
   "version": "3.10.9"
  }
 },
 "nbformat": 4,
 "nbformat_minor": 5
}
