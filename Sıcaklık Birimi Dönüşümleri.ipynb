{
 "cells": [
  {
   "cell_type": "code",
   "execution_count": null,
   "id": "80c81556",
   "metadata": {},
   "outputs": [
    {
     "name": "stdout",
     "output_type": "stream",
     "text": [
      "\n",
      "\n",
      "Celcius cinsinden girilen değeri Fahrenheit cinsine çevirir.\n",
      "\n",
      "\n",
      "\n"
     ]
    }
   ],
   "source": [
    "print(\"\"\"\n",
    "\n",
    "Celcius cinsinden girilen değeri Fahrenheit cinsine çevirir.\n",
    "\n",
    "\n",
    "\"\"\")\n",
    "\n",
    "celcius = float(input(\"Lütfen değer giriniz :\"))\n",
    "\n",
    "fahrenheit = ((celcius*180)/100)+32\n",
    "\n",
    "result = \"{} celcius'un fahrenheit karşılığı {} fahrenheit \".format(celcius,fahrenheit)\n",
    "\n",
    "print(result)"
   ]
  },
  {
   "cell_type": "code",
   "execution_count": null,
   "id": "ad01fa5c",
   "metadata": {},
   "outputs": [],
   "source": [
    "print(\"\"\"-------------------------------------------------------\n",
    "Fahrenheit cinsinden girilen değeri Celcius cinsine çevirir.\n",
    "-------------------------------------------------------\n",
    "\"\"\")\n",
    "         \n",
    "fahrenheit = float(input(\"Lütfen değer giriniz:\"))\n",
    "celcius = ((fahrenheit-32)/180)*100\n",
    "result = \"{} fahrenheit'ın celcius karşılığı {} celcius'tur\".format(fahrenheit,celcius)\n",
    "print(result) "
   ]
  },
  {
   "cell_type": "code",
   "execution_count": null,
   "id": "fd5a1d26",
   "metadata": {},
   "outputs": [],
   "source": [
    "print(\"\"\"-------------------------------------------------------\n",
    "Bu program, Celcius cinsinden girilen değeri Kelvin cinsine çevirir.\n",
    "-------------------------------------------------------\n",
    "\"\"\")\n",
    "         \n",
    "celcius = float(input(\"Lütfen değer giriniz:\"))\n",
    "kelvin = celcius+273\n",
    "result = \"{} celcius derecenin Kelvin karşılığı {} Kelvin\".format(celcius,kelvin)\n",
    "print(result)"
   ]
  },
  {
   "cell_type": "code",
   "execution_count": null,
   "id": "ec973c04",
   "metadata": {},
   "outputs": [],
   "source": [
    "print(\"\"\"-------------------------------------------------------\n",
    "Bu program, Kelvin cinsinden girilen değeri Celcius cinsine çevirir.\n",
    "-------------------------------------------------------\n",
    "\"\"\")\n",
    "         \n",
    "kelvin = float(input(\"Lütfen değer giriniz :\"))\n",
    "celcius = kelvin-273\n",
    "result = \"{} Kelvin'in celcius karşılığı {} celcius'tur\".format(kelvin,celcius)\n",
    "print(result)"
   ]
  },
  {
   "cell_type": "code",
   "execution_count": 1,
   "id": "0674a519",
   "metadata": {},
   "outputs": [
    {
     "name": "stdout",
     "output_type": "stream",
     "text": [
      "\n",
      "\n",
      "bu program celcius cinsinden degeri fahrenheit ve kelvin cinsine cevirir\n",
      "\n",
      "\n",
      "\n",
      "\n",
      "lütfen celsius değerini giriniz163\n",
      "325.4 fahrenheit ve 436.0 kelvin'dir\n"
     ]
    }
   ],
   "source": [
    "print(\"\"\"\n",
    "\n",
    "bu program celcius cinsinden degeri fahrenheit ve kelvin cinsine cevirir\n",
    "\n",
    "\n",
    "\n",
    "\"\"\")\n",
    "\n",
    "celsius = float(input(\"lütfen celsius değerini giriniz\"))\n",
    "fahrenheit = ((celsius/100)*180)+32\n",
    "kelvin = (celsius+273)\n",
    "result = f\"{fahrenheit} fahrenheit ve {kelvin} kelvin'dir\"\n",
    "print(result)\n"
   ]
  },
  {
   "cell_type": "code",
   "execution_count": null,
   "id": "6a16b296",
   "metadata": {},
   "outputs": [],
   "source": []
  }
 ],
 "metadata": {
  "kernelspec": {
   "display_name": "Python 3 (ipykernel)",
   "language": "python",
   "name": "python3"
  },
  "language_info": {
   "codemirror_mode": {
    "name": "ipython",
    "version": 3
   },
   "file_extension": ".py",
   "mimetype": "text/x-python",
   "name": "python",
   "nbconvert_exporter": "python",
   "pygments_lexer": "ipython3",
   "version": "3.10.9"
  }
 },
 "nbformat": 4,
 "nbformat_minor": 5
}
