{
 "cells": [
  {
   "cell_type": "code",
   "execution_count": 1,
   "id": "831325d5",
   "metadata": {},
   "outputs": [],
   "source": [
    "liste = [1,2,3,4,5]"
   ]
  },
  {
   "cell_type": "code",
   "execution_count": 2,
   "id": "b9304251",
   "metadata": {},
   "outputs": [],
   "source": [
    "liste.append(7)"
   ]
  },
  {
   "cell_type": "code",
   "execution_count": 3,
   "id": "639162ea",
   "metadata": {},
   "outputs": [
    {
     "name": "stdout",
     "output_type": "stream",
     "text": [
      "[1, 2, 3, 4, 5, 7]\n"
     ]
    }
   ],
   "source": [
    "print(liste)"
   ]
  },
  {
   "cell_type": "code",
   "execution_count": 4,
   "id": "4ad89ca0",
   "metadata": {},
   "outputs": [],
   "source": [
    "liste1 = [1,2,3,4,5]\n",
    "liste2 = [10,11,12]"
   ]
  },
  {
   "cell_type": "code",
   "execution_count": 5,
   "id": "bc907410",
   "metadata": {},
   "outputs": [],
   "source": [
    "liste1.extend(liste2)"
   ]
  },
  {
   "cell_type": "code",
   "execution_count": 6,
   "id": "b4c68d03",
   "metadata": {},
   "outputs": [
    {
     "name": "stdout",
     "output_type": "stream",
     "text": [
      "[1, 2, 3, 4, 5, 10, 11, 12]\n"
     ]
    }
   ],
   "source": [
    "print(liste1)"
   ]
  },
  {
   "cell_type": "code",
   "execution_count": 15,
   "id": "2d0ccdd8",
   "metadata": {},
   "outputs": [],
   "source": [
    "liste1 = [1, 2, 3, 4, 5, 10, 11, 12]"
   ]
  },
  {
   "cell_type": "code",
   "execution_count": 17,
   "id": "ad9b3c3e",
   "metadata": {},
   "outputs": [],
   "source": [
    "liste1.insert(2,\"Python\") ## İstediğimiz indexe istediğimiz elemanı ekleyebiliyoruz"
   ]
  },
  {
   "cell_type": "code",
   "execution_count": 18,
   "id": "93a27aa1",
   "metadata": {},
   "outputs": [
    {
     "name": "stdout",
     "output_type": "stream",
     "text": [
      "[1, 2, 'Python', 3, 4, 5, 10, 11, 12]\n"
     ]
    }
   ],
   "source": [
    "print(liste1)"
   ]
  },
  {
   "cell_type": "code",
   "execution_count": 22,
   "id": "d0b0224f",
   "metadata": {},
   "outputs": [],
   "source": [
    "liste = [1,2,3,4,5,6,7] ## *pop() metodu* içine hiçbir değer vermezsek listenin son elemanını silerek ekrana basar. İçine belli bir indeks değeri verirsek o indeksi siler ve ekrana basar."
   ]
  },
  {
   "cell_type": "code",
   "execution_count": 20,
   "id": "048cdfe2",
   "metadata": {},
   "outputs": [
    {
     "data": {
      "text/plain": [
       "7"
      ]
     },
     "execution_count": 20,
     "metadata": {},
     "output_type": "execute_result"
    }
   ],
   "source": [
    "liste.pop() # Son eleman siliniyor."
   ]
  },
  {
   "cell_type": "code",
   "execution_count": 21,
   "id": "236f8853",
   "metadata": {},
   "outputs": [
    {
     "name": "stdout",
     "output_type": "stream",
     "text": [
      "[1, 2, 3, 4, 5, 6]\n"
     ]
    }
   ],
   "source": [
    "print(liste)"
   ]
  },
  {
   "cell_type": "code",
   "execution_count": 23,
   "id": "3b2f72b9",
   "metadata": {},
   "outputs": [
    {
     "data": {
      "text/plain": [
       "3"
      ]
     },
     "execution_count": 23,
     "metadata": {},
     "output_type": "execute_result"
    }
   ],
   "source": [
    "liste.pop(2) # 2.indeksteki eleman siliniyor."
   ]
  },
  {
   "cell_type": "code",
   "execution_count": 5,
   "id": "3f261b42",
   "metadata": {},
   "outputs": [],
   "source": [
    "liste = [\"Python\",\"Php\",\"Java\",\"C\"] ## remove() metodu verdiğimiz değeri listeden çıkarmamızı sağlar."
   ]
  },
  {
   "cell_type": "code",
   "execution_count": 2,
   "id": "a792007c",
   "metadata": {},
   "outputs": [],
   "source": [
    "liste.remove(\"Python\") # Python'ı siliyoruz."
   ]
  },
  {
   "cell_type": "code",
   "execution_count": 3,
   "id": "eb2e91de",
   "metadata": {},
   "outputs": [
    {
     "data": {
      "text/plain": [
       "['Php', 'Java', 'C']"
      ]
     },
     "execution_count": 3,
     "metadata": {},
     "output_type": "execute_result"
    }
   ],
   "source": [
    "liste"
   ]
  },
  {
   "cell_type": "code",
   "execution_count": 4,
   "id": "1b7f17be",
   "metadata": {},
   "outputs": [
    {
     "ename": "ValueError",
     "evalue": "list.remove(x): x not in list",
     "output_type": "error",
     "traceback": [
      "\u001b[1;31m---------------------------------------------------------------------------\u001b[0m",
      "\u001b[1;31mValueError\u001b[0m                                Traceback (most recent call last)",
      "Cell \u001b[1;32mIn[4], line 1\u001b[0m\n\u001b[1;32m----> 1\u001b[0m \u001b[43mliste\u001b[49m\u001b[38;5;241;43m.\u001b[39;49m\u001b[43mremove\u001b[49m\u001b[43m(\u001b[49m\u001b[38;5;124;43m\"\u001b[39;49m\u001b[38;5;124;43mJavascript\u001b[39;49m\u001b[38;5;124;43m\"\u001b[39;49m\u001b[43m)\u001b[49m\n",
      "\u001b[1;31mValueError\u001b[0m: list.remove(x): x not in list"
     ]
    }
   ],
   "source": [
    "liste.remove(\"Javascript\") # Listede yok hata verir."
   ]
  },
  {
   "cell_type": "code",
   "execution_count": 10,
   "id": "056a4747",
   "metadata": {},
   "outputs": [],
   "source": [
    "liste = [1,2,3,4,3,3,5,6,7,8,9] ##*index() metodu* verilen bir değerin baştan başlayarak hangi indekste olduğunu söyler. Değer listede yoksa hata döner. Eğer ekstra index değeri belirtilirse, *index metodu()* değeri bu indeksten itibaren aramaya çalışır."
   ]
  },
  {
   "cell_type": "code",
   "execution_count": 7,
   "id": "b3d8f158",
   "metadata": {},
   "outputs": [
    {
     "data": {
      "text/plain": [
       "2"
      ]
     },
     "execution_count": 7,
     "metadata": {},
     "output_type": "execute_result"
    }
   ],
   "source": [
    "liste.index(3) # 3 elemanı baştan başlayarak 2.indekste"
   ]
  },
  {
   "cell_type": "code",
   "execution_count": 8,
   "id": "a620fa40",
   "metadata": {},
   "outputs": [
    {
     "data": {
      "text/plain": [
       "4"
      ]
     },
     "execution_count": 8,
     "metadata": {},
     "output_type": "execute_result"
    }
   ],
   "source": [
    "liste.index(3,3) # 3 elemanı 3.indekten itibaren arandığından 4.indekste "
   ]
  },
  {
   "cell_type": "code",
   "execution_count": 9,
   "id": "4c1d1310",
   "metadata": {},
   "outputs": [
    {
     "ename": "ValueError",
     "evalue": "'Python' is not in list",
     "output_type": "error",
     "traceback": [
      "\u001b[1;31m---------------------------------------------------------------------------\u001b[0m",
      "\u001b[1;31mValueError\u001b[0m                                Traceback (most recent call last)",
      "Cell \u001b[1;32mIn[9], line 1\u001b[0m\n\u001b[1;32m----> 1\u001b[0m \u001b[43mliste\u001b[49m\u001b[38;5;241;43m.\u001b[39;49m\u001b[43mindex\u001b[49m\u001b[43m(\u001b[49m\u001b[38;5;124;43m\"\u001b[39;49m\u001b[38;5;124;43mPython\u001b[39;49m\u001b[38;5;124;43m\"\u001b[39;49m\u001b[43m)\u001b[49m\n",
      "\u001b[1;31mValueError\u001b[0m: 'Python' is not in list"
     ]
    }
   ],
   "source": [
    "liste.index(\"Python\")"
   ]
  },
  {
   "cell_type": "code",
   "execution_count": 14,
   "id": "61cbeeb5",
   "metadata": {},
   "outputs": [],
   "source": [
    "liste = [1,2,3,4,5,6,1,1,1,1,1,1,1,1,8] ##*count() metodu* verilen bir değerin listede kaç defa geçtiğini sayar."
   ]
  },
  {
   "cell_type": "code",
   "execution_count": 12,
   "id": "61ad5637",
   "metadata": {},
   "outputs": [
    {
     "data": {
      "text/plain": [
       "9"
      ]
     },
     "execution_count": 12,
     "metadata": {},
     "output_type": "execute_result"
    }
   ],
   "source": [
    "liste.count(1)"
   ]
  },
  {
   "cell_type": "code",
   "execution_count": 13,
   "id": "72f49568",
   "metadata": {},
   "outputs": [
    {
     "data": {
      "text/plain": [
       "0"
      ]
     },
     "execution_count": 13,
     "metadata": {},
     "output_type": "execute_result"
    }
   ],
   "source": [
    "liste.count(10)"
   ]
  },
  {
   "cell_type": "code",
   "execution_count": 15,
   "id": "1b6a6dc4",
   "metadata": {},
   "outputs": [],
   "source": [
    "liste = [12,-2,3,1,34,100] ## *sort()* metodu bir listenin elemanlarını sayıysa küçükten büyüğe , string ise alfabetik olarak sıralar. Eğer özellikle içine *reverse = True* değeri verilirse elemanları büyükten küçüğe sıralar."
   ]
  },
  {
   "cell_type": "code",
   "execution_count": 16,
   "id": "ca7904b4",
   "metadata": {},
   "outputs": [],
   "source": [
    "liste.sort()"
   ]
  },
  {
   "cell_type": "code",
   "execution_count": 17,
   "id": "39b47c43",
   "metadata": {},
   "outputs": [
    {
     "data": {
      "text/plain": [
       "[-2, 1, 3, 12, 34, 100]"
      ]
     },
     "execution_count": 17,
     "metadata": {},
     "output_type": "execute_result"
    }
   ],
   "source": [
    "liste"
   ]
  },
  {
   "cell_type": "code",
   "execution_count": 18,
   "id": "577a3099",
   "metadata": {},
   "outputs": [],
   "source": [
    "liste2 = [\"Python\",\"Php\",\"C\",\"Java\"]"
   ]
  },
  {
   "cell_type": "code",
   "execution_count": 19,
   "id": "99bd15f8",
   "metadata": {},
   "outputs": [],
   "source": [
    "liste2.sort()"
   ]
  },
  {
   "cell_type": "code",
   "execution_count": 20,
   "id": "8786a774",
   "metadata": {},
   "outputs": [
    {
     "data": {
      "text/plain": [
       "['C', 'Java', 'Php', 'Python']"
      ]
     },
     "execution_count": 20,
     "metadata": {},
     "output_type": "execute_result"
    }
   ],
   "source": [
    "liste2"
   ]
  },
  {
   "cell_type": "code",
   "execution_count": 21,
   "id": "6a7cc8c1",
   "metadata": {},
   "outputs": [],
   "source": [
    "liste = [12,-2,3,1,34,100]"
   ]
  },
  {
   "cell_type": "code",
   "execution_count": 22,
   "id": "0f161e2b",
   "metadata": {},
   "outputs": [],
   "source": [
    "liste.sort(reverse = True)"
   ]
  },
  {
   "cell_type": "code",
   "execution_count": 23,
   "id": "16e679b3",
   "metadata": {},
   "outputs": [
    {
     "data": {
      "text/plain": [
       "[100, 34, 12, 3, 1, -2]"
      ]
     },
     "execution_count": 23,
     "metadata": {},
     "output_type": "execute_result"
    }
   ],
   "source": [
    "liste"
   ]
  },
  {
   "cell_type": "code",
   "execution_count": 24,
   "id": "6e9983a5",
   "metadata": {},
   "outputs": [],
   "source": [
    "liste2 = [\"Python\",\"Php\",\"C\",\"Java\"]"
   ]
  },
  {
   "cell_type": "code",
   "execution_count": 25,
   "id": "45260b8b",
   "metadata": {},
   "outputs": [],
   "source": [
    "liste2.sort(reverse = True)"
   ]
  },
  {
   "cell_type": "code",
   "execution_count": 26,
   "id": "7167c13b",
   "metadata": {},
   "outputs": [
    {
     "data": {
      "text/plain": [
       "['Python', 'Php', 'Java', 'C']"
      ]
     },
     "execution_count": 26,
     "metadata": {},
     "output_type": "execute_result"
    }
   ],
   "source": [
    "liste2"
   ]
  },
  {
   "cell_type": "code",
   "execution_count": null,
   "id": "24bbc36e",
   "metadata": {},
   "outputs": [],
   "source": []
  }
 ],
 "metadata": {
  "kernelspec": {
   "display_name": "Python 3 (ipykernel)",
   "language": "python",
   "name": "python3"
  },
  "language_info": {
   "codemirror_mode": {
    "name": "ipython",
    "version": 3
   },
   "file_extension": ".py",
   "mimetype": "text/x-python",
   "name": "python",
   "nbconvert_exporter": "python",
   "pygments_lexer": "ipython3",
   "version": "3.10.9"
  }
 },
 "nbformat": 4,
 "nbformat_minor": 5
}
